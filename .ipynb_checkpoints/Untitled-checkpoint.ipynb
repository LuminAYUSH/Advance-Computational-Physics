{
 "cells": [
  {
   "cell_type": "code",
   "execution_count": 1,
   "id": "2a767831",
   "metadata": {},
   "outputs": [
    {
     "name": "stderr",
     "output_type": "stream",
     "text": [
      "C:\\Users\\cdipt\\anaconda3\\lib\\site-packages\\numpy\\_distributor_init.py:30: UserWarning: loaded more than 1 DLL from .libs:\n",
      "C:\\Users\\cdipt\\anaconda3\\lib\\site-packages\\numpy\\.libs\\libopenblas.FB5AE2TYXYH2IJRDKGDGQ3XBKLKTF43H.gfortran-win_amd64.dll\n",
      "C:\\Users\\cdipt\\anaconda3\\lib\\site-packages\\numpy\\.libs\\libopenblas.WCDJNK7YVMPZQ2ME2ZZHJJRJ3JIKNDB7.gfortran-win_amd64.dll\n",
      "C:\\Users\\cdipt\\anaconda3\\lib\\site-packages\\numpy\\.libs\\libopenblas64__v0.3.21-gcc_10_3_0.dll\n",
      "  warnings.warn(\"loaded more than 1 DLL from .libs:\"\n"
     ]
    },
    }
   ],
   "source": [
    "import sys\n",
    "sys.path.append(\"./hmc_python/\")\n",
    "import hmc_python\n",
    "from hmc_python.util_fast import *\n",
    "from hmc_python.lparam import *\n",
    "from tqdm.auto import tqdm"
   ]
  },
  {
   "cell_type": "code",
   "execution_count": 2,
   "id": "e4cc6350",
   "metadata": {},
   "outputs": [
    {
     "name": "stdout",
     "output_type": "stream",
     "text": [
      "GN model with HMC algorithm\n",
      "\n",
      "Alpha machine, Version 1\n",
      "\n",
      "type 0 for no prompts, 1 for prompts or 2 for list of prompts\n",
      "\n",
      "Enter the prompt type (only 1 is supported for now):1\n",
      "Lattice dimensions = 32 32\n",
      "\n",
      "Switch_Flag = 0\n",
      "\n",
      "No of garbage loops = 100\n",
      "bin_length = 5\n",
      "# of hmc iterations = 1100\n",
      "meas_length = 5\n",
      "prop_length = 5\n",
      "seg_length = 100\n",
      "no of md steps = 25, step size = 0.04\n",
      "maximum no. of conj. grad. iterations = 5000,2000\n",
      "residues for conjugate grad = 1e-07,1e-05\n",
      " COLDLAT: Cold initial config. of `sigma' field\n"
     ]
    },
    {
     "data": {
      "application/vnd.jupyter.widget-view+json": {
       "model_id": "5e966a5845394e26b9d20d975028d6a5",
       "version_major": 2,
       "version_minor": 0
      },
      "text/plain": [
       "  0%|          | 0/24 [00:00<?, ?it/s]"
      ]
     },
     "metadata": {},
     "output_type": "display_data"
    },
    {
     "name": "stdout",
     "output_type": "stream",
     "text": [
      "The new hamil is 1019.5612489063806\n"
     ]
    },
    {
     "data": {
      "application/vnd.jupyter.widget-view+json": {
       "model_id": "4a1386b5974c4b8c9ae7a1dd60e816eb",
       "version_major": 2,
       "version_minor": 0
      },
      "text/plain": [
       "  0%|          | 0/24 [00:00<?, ?it/s]"
      ]
     },
     "metadata": {},
     "output_type": "display_data"
    },
    {
     "name": "stdout",
     "output_type": "stream",
     "text": [
      "The new hamil is 995.494833319901\n"
     ]
    },
    {
     "data": {
      "application/vnd.jupyter.widget-view+json": {
       "model_id": "f15233c80b44432ba0c08b887bfad50b",
       "version_major": 2,
       "version_minor": 0
      },
      "text/plain": [
       "  0%|          | 0/24 [00:00<?, ?it/s]"
      ]
     },
     "metadata": {},
     "output_type": "display_data"
    },
    {
     "name": "stdout",
     "output_type": "stream",
     "text": [
      "The new hamil is 998.7581654077223\n"
     ]
    },
    {
     "data": {
      "application/vnd.jupyter.widget-view+json": {
       "model_id": "0486ceb70ac74629ade95e73f8528573",
       "version_major": 2,
       "version_minor": 0
      },
      "text/plain": [
       "  0%|          | 0/24 [00:00<?, ?it/s]"
      ]
     },
     "metadata": {},
     "output_type": "display_data"
    },
    {
     "name": "stdout",
     "output_type": "stream",
     "text": [
      "The new hamil is 958.0059113545068\n"
     ]
    },
    {
     "data": {
      "application/vnd.jupyter.widget-view+json": {
       "model_id": "f10ea1ba87af4cfba94ac27149f42959",
       "version_major": 2,
       "version_minor": 0
      },
      "text/plain": [
       "  0%|          | 0/24 [00:00<?, ?it/s]"
      ]
     },
     "metadata": {},
     "output_type": "display_data"
    },
    {
     "name": "stdout",
     "output_type": "stream",
     "text": [
      "The new hamil is 993.9509718456464\n"
     ]
    },
    {
     "data": {
      "application/vnd.jupyter.widget-view+json": {
       "model_id": "726b18d32a9f4a5d81e66a132d243b0b",
       "version_major": 2,
       "version_minor": 0
      },
      "text/plain": [
       "  0%|          | 0/24 [00:00<?, ?it/s]"
      ]
     },
     "metadata": {},
     "output_type": "display_data"
    },
    {
     "name": "stdout",
     "output_type": "stream",
     "text": [
      "The new hamil is 1057.87752252621\n"
     ]
    },
    {
     "data": {
      "application/vnd.jupyter.widget-view+json": {
       "model_id": "fdf54045fa334044bc620e4a52af9f4c",
       "version_major": 2,
       "version_minor": 0
      },
      "text/plain": [
       "  0%|          | 0/24 [00:00<?, ?it/s]"
      ]
     },
     "metadata": {},
     "output_type": "display_data"
    },
    {
     "name": "stdout",
     "output_type": "stream",
     "text": [
      "The new hamil is 1012.1601184984031\n"
     ]
    },
    {
     "data": {
      "application/vnd.jupyter.widget-view+json": {
       "model_id": "f9ebaf3226ca4f9db769af558fb99172",
       "version_major": 2,
       "version_minor": 0
      },
      "text/plain": [
       "  0%|          | 0/24 [00:00<?, ?it/s]"
      ]
     },
     "metadata": {},
     "output_type": "display_data"
    },
    {
     "ename": "KeyboardInterrupt",
     "evalue": "",
     "output_type": "error",
     "traceback": [
      "\u001b[1;31m---------------------------------------------------------------------------\u001b[0m",
      "\u001b[1;31mKeyboardInterrupt\u001b[0m                         Traceback (most recent call last)",
      "Cell \u001b[1;32mIn[2], line 1\u001b[0m\n\u001b[1;32m----> 1\u001b[0m \u001b[43mmain\u001b[49m\u001b[43m(\u001b[49m\u001b[43m)\u001b[49m\n",
      "File \u001b[1;32m~\\Documents\\GitHub\\Advance-Computational-Physics\\hmc_python\\util_fast.py:912\u001b[0m, in \u001b[0;36mmain\u001b[1;34m()\u001b[0m\n\u001b[0;32m    910\u001b[0m \u001b[38;5;28;01mfor\u001b[39;00m n \u001b[38;5;129;01min\u001b[39;00m \u001b[38;5;28mrange\u001b[39m(hmc_it):\n\u001b[0;32m    911\u001b[0m     no_acc \u001b[38;5;241m+\u001b[39m\u001b[38;5;241m=\u001b[39m \u001b[38;5;241m1\u001b[39m\n\u001b[1;32m--> 912\u001b[0m     no_hmc \u001b[38;5;241m+\u001b[39m\u001b[38;5;241m=\u001b[39m \u001b[43mhmc\u001b[49m\u001b[43m(\u001b[49m\u001b[43m)\u001b[49m\n\u001b[0;32m    914\u001b[0m     \u001b[38;5;28;01mif\u001b[39;00m no_acc\u001b[38;5;241m<\u001b[39m\u001b[38;5;241m=\u001b[39mno_garbage:\n\u001b[0;32m    915\u001b[0m         garbage[g] \u001b[38;5;241m=\u001b[39m average_sigma()\n",
      "File \u001b[1;32m~\\Documents\\GitHub\\Advance-Computational-Physics\\hmc_python\\util_fast.py:695\u001b[0m, in \u001b[0;36mhmc\u001b[1;34m()\u001b[0m\n\u001b[0;32m    693\u001b[0m \u001b[38;5;28;01mfor\u001b[39;00m j \u001b[38;5;129;01min\u001b[39;00m tqdm(\u001b[38;5;28mrange\u001b[39m(\u001b[38;5;241m0\u001b[39m,mdstep\u001b[38;5;241m-\u001b[39m\u001b[38;5;241m1\u001b[39m)):\n\u001b[0;32m    694\u001b[0m     lattice\u001b[38;5;241m.\u001b[39mphi[:] \u001b[38;5;241m+\u001b[39m\u001b[38;5;241m=\u001b[39m step\u001b[38;5;241m*\u001b[39mlattice\u001b[38;5;241m.\u001b[39mmom[:]\n\u001b[1;32m--> 695\u001b[0m     \u001b[43mpiup\u001b[49m\u001b[43m(\u001b[49m\u001b[43mstep\u001b[49m\u001b[43m)\u001b[49m\n\u001b[0;32m    697\u001b[0m lattice\u001b[38;5;241m.\u001b[39mphi[:] \u001b[38;5;241m+\u001b[39m\u001b[38;5;241m=\u001b[39m step\u001b[38;5;241m*\u001b[39mlattice\u001b[38;5;241m.\u001b[39mmom[:]\n\u001b[0;32m    699\u001b[0m piup(step\u001b[38;5;241m/\u001b[39m\u001b[38;5;241m2\u001b[39m)\n",
      "File \u001b[1;32m~\\Documents\\GitHub\\Advance-Computational-Physics\\hmc_python\\util_fast.py:828\u001b[0m, in \u001b[0;36mpiup\u001b[1;34m(t)\u001b[0m\n\u001b[0;32m    825\u001b[0m lattice\u001b[38;5;241m.\u001b[39mmom[:] \u001b[38;5;241m-\u001b[39m\u001b[38;5;241m=\u001b[39m ((\u001b[38;5;241m1\u001b[39m\u001b[38;5;241m/\u001b[39m(g\u001b[38;5;241m*\u001b[39mg)) \u001b[38;5;241m*\u001b[39m lattice\u001b[38;5;241m.\u001b[39mphi[:] \u001b[38;5;241m*\u001b[39m t)\n\u001b[0;32m    827\u001b[0m \u001b[38;5;28;01mfor\u001b[39;00m n \u001b[38;5;129;01min\u001b[39;00m \u001b[38;5;28mrange\u001b[39m(nf):\n\u001b[1;32m--> 828\u001b[0m     \u001b[43mcg_md\u001b[49m\u001b[43m(\u001b[49m\u001b[38;5;124;43m\"\u001b[39;49m\u001b[38;5;124;43mchi\u001b[39;49m\u001b[38;5;124;43m\"\u001b[39;49m\u001b[43m,\u001b[49m\u001b[38;5;124;43m\"\u001b[39;49m\u001b[38;5;124;43meta\u001b[39;49m\u001b[38;5;124;43m\"\u001b[39;49m\u001b[43m,\u001b[49m\u001b[43mcgiter2\u001b[49m\u001b[43m,\u001b[49m\u001b[43m \u001b[49m\u001b[43mresidue2\u001b[49m\u001b[43m,\u001b[49m\u001b[43m \u001b[49m\u001b[38;5;241;43m1\u001b[39;49m\u001b[43m,\u001b[49m\u001b[43m \u001b[49m\u001b[43mn\u001b[49m\u001b[43m)\u001b[49m\n\u001b[0;32m    829\u001b[0m     matp2d(\u001b[38;5;124m\"\u001b[39m\u001b[38;5;124meta\u001b[39m\u001b[38;5;124m\"\u001b[39m,\u001b[38;5;124m\"\u001b[39m\u001b[38;5;124mp\u001b[39m\u001b[38;5;124m\"\u001b[39m,PLUS,EVENANDODD,n)\n\u001b[0;32m    830\u001b[0m     lattice\u001b[38;5;241m.\u001b[39mmom[:] \u001b[38;5;241m+\u001b[39m\u001b[38;5;241m=\u001b[39m (\u001b[38;5;241m2\u001b[39m \u001b[38;5;241m*\u001b[39m lattice\u001b[38;5;241m.\u001b[39mp[:] \u001b[38;5;241m*\u001b[39m lattice\u001b[38;5;241m.\u001b[39meta[:,n] \u001b[38;5;241m*\u001b[39m t)\n",
      "File \u001b[1;32m~\\Documents\\GitHub\\Advance-Computational-Physics\\hmc_python\\util_fast.py:378\u001b[0m, in \u001b[0;36mcg_md\u001b[1;34m(src, dest, cgiter, residue, cgflag, flavor)\u001b[0m\n\u001b[0;32m    375\u001b[0m \u001b[38;5;28;01mwhile\u001b[39;00m N_iter \u001b[38;5;241m<\u001b[39m cgiter \u001b[38;5;129;01mand\u001b[39;00m size_r \u001b[38;5;241m>\u001b[39m residue:\n\u001b[0;32m    376\u001b[0m     c \u001b[38;5;241m=\u001b[39m cp\n\u001b[1;32m--> 378\u001b[0m     \u001b[43mmatd2d\u001b[49m\u001b[43m(\u001b[49m\u001b[38;5;124;43m\"\u001b[39;49m\u001b[38;5;124;43mp\u001b[39;49m\u001b[38;5;124;43m\"\u001b[39;49m\u001b[43m,\u001b[49m\u001b[38;5;124;43m\"\u001b[39;49m\u001b[38;5;124;43mmp\u001b[39;49m\u001b[38;5;124;43m\"\u001b[39;49m\u001b[43m,\u001b[49m\u001b[43mPLUS\u001b[49m\u001b[43m,\u001b[49m\u001b[43mEVENANDODD\u001b[49m\u001b[43m)\u001b[49m\n\u001b[0;32m    380\u001b[0m     d\u001b[38;5;241m=\u001b[39m\u001b[38;5;241m0\u001b[39m\n\u001b[0;32m    381\u001b[0m     d \u001b[38;5;241m=\u001b[39m np\u001b[38;5;241m.\u001b[39msum((lattice\u001b[38;5;241m.\u001b[39mmp[:])\u001b[38;5;241m*\u001b[39m\u001b[38;5;241m*\u001b[39m\u001b[38;5;241m2\u001b[39m)\n",
      "File \u001b[1;32m~\\Documents\\GitHub\\Advance-Computational-Physics\\hmc_python\\util_fast.py:485\u001b[0m, in \u001b[0;36mmatd2d\u001b[1;34m(src, dest, isign, parity)\u001b[0m\n\u001b[0;32m    481\u001b[0m n \u001b[38;5;241m=\u001b[39m \u001b[38;5;28;01mNone\u001b[39;00m\n\u001b[0;32m    483\u001b[0m \u001b[38;5;28;01mglobal\u001b[39;00m XUP,XDN,TUP,TDN, EVENANDODD, volume\n\u001b[1;32m--> 485\u001b[0m \u001b[43mgather\u001b[49m\u001b[43m(\u001b[49m\u001b[43msrc\u001b[49m\u001b[43m,\u001b[49m\u001b[43m \u001b[49m\u001b[43mXUP\u001b[49m\u001b[43m,\u001b[49m\u001b[43m \u001b[49m\u001b[43mEVENANDODD\u001b[49m\u001b[43m,\u001b[49m\u001b[43m \u001b[49m\u001b[43mgen_pt\u001b[49m\u001b[43m)\u001b[49m\n\u001b[0;32m    486\u001b[0m lattice[dest][:] \u001b[38;5;241m=\u001b[39m \u001b[38;5;241m0.5\u001b[39m\u001b[38;5;241m*\u001b[39mlattice\u001b[38;5;241m.\u001b[39msign[:]\u001b[38;5;241m*\u001b[39mgen_pt[:]\n\u001b[0;32m    488\u001b[0m gather(src, XDN, EVENANDODD, gen_pt)\n",
      "File \u001b[1;32m~\\Documents\\GitHub\\Advance-Computational-Physics\\hmc_python\\util_fast.py:668\u001b[0m, in \u001b[0;36mgather\u001b[1;34m(field, index, parity, dest)\u001b[0m\n\u001b[0;32m    665\u001b[0m     dest[idx] \u001b[38;5;241m=\u001b[39m lattice[field][neighbor[index,idx]]\n\u001b[0;32m    667\u001b[0m \u001b[38;5;28;01mif\u001b[39;00m parity \u001b[38;5;241m==\u001b[39m EVENANDODD:\n\u001b[1;32m--> 668\u001b[0m     gen_pt \u001b[38;5;241m=\u001b[39m \u001b[43mlattice\u001b[49m\u001b[43m[\u001b[49m\u001b[43mfield\u001b[49m\u001b[43m]\u001b[49m\u001b[43m[\u001b[49m\u001b[43mneighbor\u001b[49m\u001b[43m[\u001b[49m\u001b[43mindex\u001b[49m\u001b[43m,\u001b[49m\u001b[43m:\u001b[49m\u001b[43m]\u001b[49m\u001b[43m]\u001b[49m\u001b[38;5;241m.\u001b[39mcopy()\n",
      "\u001b[1;31mKeyboardInterrupt\u001b[0m: "
     ]
    }
   ],
   "source": [
    "main()"
   ]
  },
  {
   "cell_type": "code",
   "execution_count": null,
   "id": "4046045a",
   "metadata": {},
   "outputs": [],
   "source": [
    "!pip install line_profiler\n",
    "%load_ext line_profiler\n",
    "\n",
    "\n",
    "%lprun -f piup piup(0)"
   ]
  },
  {
   "cell_type": "code",
   "execution_count": null,
   "id": "58d57b36",
   "metadata": {},
   "outputs": [],
   "source": [
    "a = np.array([[[1,2,3],[2,3,4]],[[4,5,6],[6,7,8]]])\n",
    "b[...] = a[...]"
   ]
  },
  {
   "cell_type": "code",
   "execution_count": null,
   "id": "608c8484",
   "metadata": {},
   "outputs": [],
   "source": [
    "s = list(i for i in range(int(1e3)))\n",
    "# s = np.arange(1,int(1e3))\n",
    "for i in tqdm(range(1000000)):\n",
    "#     np.sum(np.array(s))\n",
    "    sum(s)"
   ]
  },
  {
   "cell_type": "code",
   "execution_count": null,
   "id": "40814471",
   "metadata": {},
   "outputs": [],
   "source": [
    "a = np.array(list(None for i in range(10)))\n",
    "b = np.zeros((10))"
   ]
  },
  {
   "cell_type": "code",
   "execution_count": null,
   "id": "c81753cc",
   "metadata": {},
   "outputs": [],
   "source": [
    "a[0] = np.array([1,2])"
   ]
  },
  {
   "cell_type": "code",
   "execution_count": null,
   "id": "19859949",
   "metadata": {},
   "outputs": [],
   "source": [
    "b[0,0,0] = -1000"
   ]
  },
  {
   "cell_type": "code",
   "execution_count": null,
   "id": "8a45f019",
   "metadata": {},
   "outputs": [],
   "source": [
    "a[0] = b[0,:]"
   ]
  },
  {
   "cell_type": "code",
   "execution_count": null,
   "id": "19b7b7b8",
   "metadata": {},
   "outputs": [],
   "source": [
    "len(b.shape)"
   ]
  },
  {
   "cell_type": "code",
   "execution_count": null,
   "id": "4ce3c8b0",
   "metadata": {},
   "outputs": [],
   "source": [
    "b.shape"
   ]
  },
  {
   "cell_type": "code",
   "execution_count": null,
   "id": "d4896c65",
   "metadata": {},
   "outputs": [],
   "source": [
    "l = get_lattice()\n",
    "n = fet_neighbour()"
   ]
  },
  {
   "cell_type": "code",
   "execution_count": null,
   "id": "bca2cfd8",
   "metadata": {},
   "outputs": [],
   "source": [
    "l[\"x\"][n[:,0]]"
   ]
  },
  {
   "cell_type": "code",
   "execution_count": null,
   "id": "efdcf6b4",
   "metadata": {},
   "outputs": [],
   "source": [
    "n[:,0].astype(np.uint16)"
   ]
  },
  {
   "cell_type": "code",
   "execution_count": null,
   "id": "740b58ef",
   "metadata": {},
   "outputs": [],
   "source": [
    "lattice[field][neighbor[index,:]]"
   ]
  },
  {
   "cell_type": "code",
   "execution_count": null,
   "id": "0c3ad971",
   "metadata": {},
   "outputs": [],
   "source": [
    "n[:,0]"
   ]
  },
  {
   "cell_type": "code",
   "execution_count": null,
   "id": "1c56712d",
   "metadata": {},
   "outputs": [],
   "source": [
    "lattice = get_lattice()"
   ]
  },
  {
   "cell_type": "code",
   "execution_count": null,
   "id": "b4cde60c",
   "metadata": {},
   "outputs": [],
   "source": [
    "hamil(1,1)"
   ]
  },
  {
   "cell_type": "code",
   "execution_count": null,
   "id": "1136096e",
   "metadata": {},
   "outputs": [],
   "source": [
    "lattice[0][\"eta\"].f"
   ]
  },
  {
   "cell_type": "code",
   "execution_count": null,
   "id": "4fadeefc",
   "metadata": {},
   "outputs": [],
   "source": [
    "lattice[3][\"eta\"].f"
   ]
  },
  {
   "cell_type": "code",
   "execution_count": null,
   "id": "bf4e4ab5",
   "metadata": {},
   "outputs": [],
   "source": [
    "import glob\n",
    "files = glob.glob(\"./hmc_python/*\")"
   ]
  },
  {
   "cell_type": "code",
   "execution_count": null,
   "id": "a6f06cdb",
   "metadata": {},
   "outputs": [],
   "source": [
    "os.listdir(\"C:/Users/cdipt/Documents/GitHub/Advance-Computational-Physics/hmc_python/\")"
   ]
  },
  {
   "cell_type": "code",
   "execution_count": null,
   "id": "d57ab71d",
   "metadata": {},
   "outputs": [],
   "source": [
    "\n",
    "# randomize() # Not defined here but present in the original code\n",
    "\n",
    "# filelat(pin) # Getting converted will be merged later\n",
    "\n",
    "av_sigma = 0.0  # grand average of <sigma>\n",
    "av_psi = 0.0  # grand average of <psi_bar-psi>\n",
    "t_ex_sigma = 0.0  # grand sum over all <sigma>s\n",
    "seg_av_sigma = 0.0  # segment-average of <sigma> for tau_int\n",
    "seg_av_prop = 0.0  # segment-average of <propagator[m]>\n",
    "\n",
    "no_hmc = 0  # # of hmc steps calculated\n",
    "no_acc = 0  # # of accepted configurations\n",
    "counter = 0  # counter used in hmc.c\n",
    "meas = 0  # meas is a switch for measurements\n",
    "no_auto = 0  # no_auto is the index for autocoreln. measurement\n",
    "no_prop = 0  # no_prop is the index for Prop-Acl calculation\n",
    "\n",
    "a = 0  # a index used in tau_int measurements\n",
    "ac = 0  # ac configuration index to ac_prop[ac]\n",
    "acc = 0  # acc index used in G_temp[][acc] i.e. # of data point and also used as index in ac_store\n",
    "bin = 0  # bin is index to bin_average\n",
    "g = 0  # g configuration index to garbage i.e. garbage[g]\n",
    "k = 0  # k configuration index to store i.e. store[k]\n",
    "j = 0  # j configuration index to store[j], during measurements"
   ]
  },
  {
   "cell_type": "code",
   "execution_count": null,
   "id": "37b14099",
   "metadata": {},
   "outputs": [],
   "source": [
    "#  GARBAGE LOOPS AND AUTOCORELATION MEASUREMENTS LOOPS\n",
    "for n in range(hmc_it):\n",
    "    no_acc += 1\n",
    "    no_hmc += hmc()\n",
    "\n",
    "    if no_acc<=no_garbage:\n",
    "        garbage[g] = average_sigma()\n",
    "        g += 1\n",
    "        bin +=1\n",
    "        if bin%bin_length == 0:\n",
    "            for m in range((g-bin),g):\n",
    "                bin_av[k] +=garbage[m]/bin_length\n",
    "            k += 1\n",
    "            bin = 0\n",
    "\n",
    "    if no_acc>no_garbage:\n",
    "        ac_store[acc] = average_sigma()\n",
    "        acc += 1\n",
    "        no_auto += 1\n",
    "\n",
    "        if no_auto%seg_length == 0:\n",
    "            lbd = acc - no_auto\n",
    "            for m in range(lbd,acc):\n",
    "                seg_av_sigma += ac_store[m]/seg_length\n",
    "            autocorel(seg_av_sigma,lbd,a)\n",
    "            a += 1\n",
    "            seg_av_sigma = 0\n",
    "            no_auto = 0\n",
    "\n",
    "    for i in range(0,volume):\n",
    "        con[i] = conf[i]\n",
    "    for i in range(0,volume):\n",
    "        conf[i] = lattice[i].sigma\n",
    "\n",
    "acc_rate = no_acc/no_hmc\n",
    "\n",
    "for n in range(0, MAXT_cut):\n",
    "    ptacl.write(f\"{n+1}\")\n",
    "    for u in range(NOT_cut):\n",
    "        d_t_int = 0\n",
    "        av_t_int = 0\n",
    "\n",
    "        for a in range(no_a_seg):\n",
    "            av_t_int += T_int[u][n][a]/no_a_seg\n",
    "        for a in range(no_a_seg):\n",
    "            d_t_int += (T_int[u][n][a] -00 av_t_int)**2\n",
    "\n",
    "        d_t_int = math.sqrt(d_t_int/(no_a_seg-1))\n",
    "\n",
    "        ptacl.write(f\"\\t{av_t_int}\\t{d_t_int}\")\n",
    "    ptacl.write(\"\\n\")\n",
    "\n",
    "print(f\"\\n\\n no_acc_traj={no_acc} \\t no_hmc={no_hmc} \\t acc_rate={acc_rate}\")\n",
    "\n",
    "for k in range(0,no_bin):\n",
    "    ptout.write(f\"{k+1}\\t{bin_av[k]}\\n\")\n",
    "for i in range(0,volume):\n",
    "    ptlat.write(f\"{lattice[i].sigma}\\n\")\n"
   ]
  },
  {
   "cell_type": "code",
   "execution_count": null,
   "id": "e5692fcc",
   "metadata": {},
   "outputs": [],
   "source": [
    "if sw_flag == 0:\n",
    "    #  GARBAGE LOOPS AND AUTOCORELATION MEASUREMENTS LOOPS\n",
    "    for n in range(hmc_it):\n",
    "        no_acc += 1\n",
    "        no_hmc += hmc()\n",
    "\n",
    "        if no_acc<=no_garbage:\n",
    "            garbage[g] = average_sigma()\n",
    "            g += 1\n",
    "            bin +=1\n",
    "            if bin%bin_length == 0:\n",
    "                for m in range((g-bin),g):\n",
    "                    bin_av[k] +=garbage[m]/bin_length\n",
    "                k += 1\n",
    "                bin = 0\n",
    "\n",
    "        if no_acc>no_garbage:\n",
    "            ac_store[acc] = average_sigma()\n",
    "            acc += 1\n",
    "            no_auto += 1\n",
    "\n",
    "            if no_auto%seg_length == 0:\n",
    "                lbd = acc - no_auto\n",
    "                for m in range(lbd,acc):\n",
    "                    seg_av_sigma += ac_store[m]/seg_length\n",
    "                autocorel(seg_av_sigma,lbd,a)\n",
    "                a += 1\n",
    "                seg_av_sigma = 0\n",
    "                no_auto = 0\n",
    "\n",
    "        for i in range(0,volume):\n",
    "            con[i] = conf[i]\n",
    "        for i in range(0,volume):\n",
    "            conf[i] = lattice[i].sigma\n",
    "\n",
    "    acc_rate = no_acc/no_hmc\n",
    "\n",
    "    for n in range(0, MAXT_cut):\n",
    "        ptacl.write(f\"{n+1}\")\n",
    "        for u in range(NOT_cut):\n",
    "            d_t_int = 0\n",
    "            av_t_int = 0\n",
    "\n",
    "            for a in range(no_a_seg):\n",
    "                av_t_int += T_int[u][n][a]/no_a_seg\n",
    "            for a in range(no_a_seg):\n",
    "                d_t_int += (T_int[u][n][a] - av_t_int)**2\n",
    "\n",
    "            d_t_int = math.sqrt(d_t_int/(no_a_seg-1))\n",
    "\n",
    "            ptacl.write(f\"\\t{av_t_int}\\t{d_t_int}\")\n",
    "        ptacl.write(\"\\n\")\n",
    "\n",
    "    print(f\"\\n\\n no_acc_traj={no_acc} \\t no_hmc={no_hmc} \\t acc_rate={acc_rate}\")\n",
    "\n",
    "    for k in range(0,no_bin):\n",
    "        ptout.write(f\"{k+1}\\t{bin_av[k]}\\n\")\n",
    "    for i in range(0,volume):\n",
    "        ptlat.write(f\"{lattice[i].sigma}\\n\")\n",
    "\n",
    "\n",
    "\n",
    "if sw_flag == 1:\n",
    "    for n in range(meas_loop):\n",
    "        no_acc += 1\n",
    "        no_hmc += hmc()\n",
    "\n",
    "        meas = meas + 1\n",
    "        no_prop = no_prop + 1\n",
    "\n",
    "        if meas%meas_length == 0:\n",
    "            store[j] += average_sigma()\n",
    "            t_ex_sigma += store[j]\n",
    "            j += 1\n",
    "\n",
    "        if meas%prop_length == 0:\n",
    "            pass\n",
    "\n",
    "    av_sigma = t_ex_sigma / no_meas\n",
    "    sqdev = 0\n",
    "    for k in range(no_meas):\n",
    "        sqdev += (store[k]-av_sigma)**2\n",
    "    d_av_sigma = sqrt(sqdev/(no_meas-1))\n",
    "\n",
    "    acc_rate = no_acc/no_hmc\n",
    "\n",
    "    print(f\"\\n\\n\\ no_acc_traj = {no_acc} \\t no_hmc = {no_hmc} \\t acc_rate = {acc_rate} \\n\\n\")\n",
    "    print(f\"av_sigma={av_sigma} \\t av_psi{av_psi}\\n\\n\")\n",
    "    print(f\"d_av_sigma={d_av_sigma} \\t d_av_psi{d_av_psi}\\n\\n\")\n",
    "\n",
    "    for i in range(0,volume):\n",
    "        ptlat.write(f\"{lattice[i].sigma}\\n\")\n",
    "\n",
    "else:\n",
    "    print(\"KILL YOURSELF, PLEASE !!!\")\n"
   ]
  },
  {
   "cell_type": "code",
   "execution_count": null,
   "id": "49563ff2",
   "metadata": {},
   "outputs": [],
   "source": [
    "np.random.randn()"
   ]
  },
  {
   "cell_type": "code",
   "execution_count": null,
   "id": "958e92e6",
   "metadata": {},
   "outputs": [],
   "source": []
  },
  {
   "cell_type": "code",
   "execution_count": null,
   "id": "32cd16fc",
   "metadata": {},
   "outputs": [],
   "source": []
  },
  {
   "cell_type": "code",
   "execution_count": null,
   "id": "5e94d472",
   "metadata": {},
   "outputs": [],
   "source": []
  }
 ],
 "metadata": {
  "kernelspec": {
   "display_name": "Python 3 (ipykernel)",
   "language": "python",
   "name": "python3"
  },
  "language_info": {
   "codemirror_mode": {
    "name": "ipython",
    "version": 3
   },
   "file_extension": ".py",
   "mimetype": "text/x-python",
   "name": "python",
   "nbconvert_exporter": "python",
   "pygments_lexer": "ipython3",
   "version": "3.8.8"
  }
 },
 "nbformat": 4,
 "nbformat_minor": 5
}
