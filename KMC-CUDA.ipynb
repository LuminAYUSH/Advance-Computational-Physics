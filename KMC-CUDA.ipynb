{
 "cells": [
  {
   "cell_type": "code",
   "execution_count": 1,
   "id": "52a02dee",
   "metadata": {
    "tags": []
   },
   "outputs": [],
   "source": [
    "from kmc_python.util_cuda import * \n",
    "from matplotlib import pyplot as plt\n",
    "import json\n",
    "from tqdm.auto import tqdm\n",
    "import multiprocessing"
   ]
  },
  {
   "cell_type": "code",
   "execution_count": 2,
   "id": "a666040d",
   "metadata": {
    "tags": []
   },
   "outputs": [],
   "source": [
    "config = open(\"./Default_config.json\",\"r\")\n",
    "config = json.load(config)\n"
   ]
  },
  {
   "cell_type": "code",
   "execution_count": 3,
   "id": "86467465-7dfa-47e5-b820-8754233afc69",
   "metadata": {
    "tags": []
   },
   "outputs": [],
   "source": [
    "# nx 32 nt 32 num_flavors 4 coupling 0.54 step_size 0.1 noise_parameter 1.5 kr_trajectory_length 200 kr_refreshing_steps 2 measurement_interval 1 max_cg_iter_for_hamil 2000 residue_cg_hamil 0.000001 max_cg_iter_for_piup 1000 residue_cg_piup 0.0001"
   ]
  },
  {
   "cell_type": "code",
   "execution_count": 10,
   "id": "722bf46d-d819-4248-9bf5-e96e33850230",
   "metadata": {
    "tags": []
   },
   "outputs": [],
   "source": [
    "config[\"nx\"] = 32\n",
    "config[\"nt\"] = 32\n",
    "config[\"kr_trajectory_length\"] = 200\n",
    "config[\"step_size\"] = 0.1"
   ]
  },
  {
   "cell_type": "code",
   "execution_count": 11,
   "id": "82e96db4-6721-4fb2-bf23-6e581e4ea983",
   "metadata": {
    "tags": []
   },
   "outputs": [],
   "source": [
    "def runner(f):\n",
    "    result = main(prompt=2,\n",
    "                  file=None,\n",
    "                  dict_=f,\n",
    "                  suppress_output=True\n",
    "                 )\n",
    "    return result"
   ]
  },
  {
   "cell_type": "code",
   "execution_count": 12,
   "id": "1e3aefa5-41c0-4f09-9b08-8b32e199fbd4",
   "metadata": {
    "tags": []
   },
   "outputs": [
    {
     "data": {
      "application/vnd.jupyter.widget-view+json": {
       "model_id": "fe0fd7bdd89447e2b8e5000374d094d5",
       "version_major": 2,
       "version_minor": 0
      },
      "text/plain": [
       "  0%|          | 0/200 [00:00<?, ?it/s]"
      ]
     },
     "metadata": {},
     "output_type": "display_data"
    },
    {
     "ename": "KeyboardInterrupt",
     "evalue": "",
     "output_type": "error",
     "traceback": [
      "\u001b[0;31m---------------------------------------------------------------------------\u001b[0m",
      "\u001b[0;31mKeyboardInterrupt\u001b[0m                         Traceback (most recent call last)",
      "Cell \u001b[0;32mIn[12], line 1\u001b[0m\n\u001b[0;32m----> 1\u001b[0m _,_ \u001b[38;5;241m=\u001b[39m \u001b[43mmain\u001b[49m\u001b[43m(\u001b[49m\u001b[43mprompt\u001b[49m\u001b[38;5;241;43m=\u001b[39;49m\u001b[38;5;241;43m2\u001b[39;49m\u001b[43m,\u001b[49m\u001b[43mfile\u001b[49m\u001b[38;5;241;43m=\u001b[39;49m\u001b[38;5;28;43;01mNone\u001b[39;49;00m\u001b[43m,\u001b[49m\u001b[43mdict_\u001b[49m\u001b[38;5;241;43m=\u001b[39;49m\u001b[43mconfig\u001b[49m\u001b[43m,\u001b[49m\u001b[43msuppress_output\u001b[49m\u001b[38;5;241;43m=\u001b[39;49m\u001b[38;5;28;43;01mTrue\u001b[39;49;00m\u001b[43m)\u001b[49m\n",
      "File \u001b[0;32m/pscratch/sd/d/diptarko/Thesis/Advance-Computational-Physics/kmc_python/util_cuda.py:677\u001b[0m, in \u001b[0;36mmain\u001b[0;34m(prompt, file, dict_, suppress_output)\u001b[0m\n\u001b[1;32m    674\u001b[0m lattice\u001b[38;5;241m.\u001b[39mzeta \u001b[38;5;241m=\u001b[39m np\u001b[38;5;241m.\u001b[39mrandom\u001b[38;5;241m.\u001b[39mnormal(loc\u001b[38;5;241m=\u001b[39m\u001b[38;5;241m0\u001b[39m,scale\u001b[38;5;241m=\u001b[39m(\u001b[38;5;241m1\u001b[39m\u001b[38;5;241m/\u001b[39mmath\u001b[38;5;241m.\u001b[39msqrt(\u001b[38;5;241m2\u001b[39m)),size\u001b[38;5;241m=\u001b[39mlattice\u001b[38;5;241m.\u001b[39mzeta\u001b[38;5;241m.\u001b[39mshape)\n\u001b[1;32m    676\u001b[0m \u001b[38;5;28;01mfor\u001b[39;00m k \u001b[38;5;129;01min\u001b[39;00m \u001b[38;5;28mrange\u001b[39m(\u001b[38;5;241m0\u001b[39m,KRmax):\n\u001b[0;32m--> 677\u001b[0m     krflag \u001b[38;5;241m=\u001b[39m \u001b[43mkramer\u001b[49m\u001b[43m(\u001b[49m\u001b[43m)\u001b[49m\n\u001b[1;32m    678\u001b[0m     \u001b[38;5;28;01mif\u001b[39;00m krflag \u001b[38;5;241m==\u001b[39m \u001b[38;5;241m0\u001b[39m:\n\u001b[1;32m    679\u001b[0m         numkr \u001b[38;5;241m=\u001b[39m numkr \u001b[38;5;241m+\u001b[39m \u001b[38;5;241m1\u001b[39m\n",
      "File \u001b[0;32m/pscratch/sd/d/diptarko/Thesis/Advance-Computational-Physics/kmc_python/util_cuda.py:496\u001b[0m, in \u001b[0;36mkramer\u001b[0;34m()\u001b[0m\n\u001b[1;32m    493\u001b[0m hold \u001b[38;5;241m=\u001b[39m hamil(\u001b[38;5;241m1\u001b[39m,\u001b[38;5;241m1\u001b[39m)\n\u001b[1;32m    494\u001b[0m \u001b[38;5;66;03m# print(f\"Old Hamiltonian = {hold}\")\u001b[39;00m\n\u001b[0;32m--> 496\u001b[0m \u001b[43mpiup\u001b[49m\u001b[43m(\u001b[49m\u001b[43mStep\u001b[49m\u001b[38;5;241;43m/\u001b[39;49m\u001b[38;5;241;43m2\u001b[39;49m\u001b[43m)\u001b[49m\n\u001b[1;32m    498\u001b[0m lattice\u001b[38;5;241m.\u001b[39mphi[:] \u001b[38;5;241m=\u001b[39m lattice\u001b[38;5;241m.\u001b[39mphi[:] \u001b[38;5;241m+\u001b[39m Step\u001b[38;5;241m*\u001b[39mlattice\u001b[38;5;241m.\u001b[39mpi[:]\n\u001b[1;32m    500\u001b[0m piup(Step\u001b[38;5;241m/\u001b[39m\u001b[38;5;241m2\u001b[39m)\n",
      "File \u001b[0;32m/pscratch/sd/d/diptarko/Thesis/Advance-Computational-Physics/kmc_python/util_cuda.py:617\u001b[0m, in \u001b[0;36mpiup\u001b[0;34m(t)\u001b[0m\n\u001b[1;32m    614\u001b[0m lattice\u001b[38;5;241m.\u001b[39mpi[:] \u001b[38;5;241m=\u001b[39m lattice\u001b[38;5;241m.\u001b[39mpi[:] \u001b[38;5;241m-\u001b[39m ((\u001b[38;5;241m1\u001b[39m\u001b[38;5;241m/\u001b[39m(G\u001b[38;5;241m*\u001b[39mG)) \u001b[38;5;241m*\u001b[39m lattice\u001b[38;5;241m.\u001b[39mphi[:] \u001b[38;5;241m*\u001b[39m t)\n\u001b[1;32m    616\u001b[0m \u001b[38;5;28;01mfor\u001b[39;00m n \u001b[38;5;129;01min\u001b[39;00m \u001b[38;5;28mrange\u001b[39m(Nf):\n\u001b[0;32m--> 617\u001b[0m     \u001b[43mcongrad\u001b[49m\u001b[43m(\u001b[49m\u001b[38;5;124;43m\"\u001b[39;49m\u001b[38;5;124;43mzeta\u001b[39;49m\u001b[38;5;124;43m\"\u001b[39;49m\u001b[43m,\u001b[49m\u001b[38;5;124;43m\"\u001b[39;49m\u001b[38;5;124;43mxi\u001b[39;49m\u001b[38;5;124;43m\"\u001b[39;49m\u001b[43m,\u001b[49m\u001b[43m \u001b[49m\u001b[43mCgiterP\u001b[49m\u001b[43m,\u001b[49m\u001b[43m \u001b[49m\u001b[43mResidueP\u001b[49m\u001b[43m,\u001b[49m\u001b[43m \u001b[49m\u001b[38;5;241;43m1\u001b[39;49m\u001b[43m,\u001b[49m\u001b[43m \u001b[49m\u001b[43mn\u001b[49m\u001b[43m)\u001b[49m\n\u001b[1;32m    618\u001b[0m     matp2p(\u001b[38;5;124m\"\u001b[39m\u001b[38;5;124mxi\u001b[39m\u001b[38;5;124m\"\u001b[39m,\u001b[38;5;124m\"\u001b[39m\u001b[38;5;124momega\u001b[39m\u001b[38;5;124m\"\u001b[39m,PLUS,n)\n\u001b[1;32m    619\u001b[0m     lattice\u001b[38;5;241m.\u001b[39mpi[:] \u001b[38;5;241m=\u001b[39m lattice\u001b[38;5;241m.\u001b[39mpi[:] \u001b[38;5;241m+\u001b[39m (\u001b[38;5;241m2\u001b[39m \u001b[38;5;241m*\u001b[39m lattice\u001b[38;5;241m.\u001b[39momega[:, n] \u001b[38;5;241m*\u001b[39m lattice\u001b[38;5;241m.\u001b[39mxi[:, n] \u001b[38;5;241m*\u001b[39m t)\n",
      "File \u001b[0;32m/pscratch/sd/d/diptarko/Thesis/Advance-Computational-Physics/kmc_python/util_cuda.py:321\u001b[0m, in \u001b[0;36mcongrad\u001b[0;34m(src, dest, cgiter, residue, cgflag, flv)\u001b[0m\n\u001b[1;32m    318\u001b[0m c \u001b[38;5;241m=\u001b[39m cp\n\u001b[1;32m    320\u001b[0m matd2d(\u001b[38;5;124m\"\u001b[39m\u001b[38;5;124mp\u001b[39m\u001b[38;5;124m\"\u001b[39m,\u001b[38;5;124m\"\u001b[39m\u001b[38;5;124mmp\u001b[39m\u001b[38;5;124m\"\u001b[39m,PLUS)\n\u001b[0;32m--> 321\u001b[0m \u001b[43mmatd2d\u001b[49m\u001b[43m(\u001b[49m\u001b[38;5;124;43m\"\u001b[39;49m\u001b[38;5;124;43mmp\u001b[39;49m\u001b[38;5;124;43m\"\u001b[39;49m\u001b[43m,\u001b[49m\u001b[38;5;124;43m\"\u001b[39;49m\u001b[38;5;124;43mmmp\u001b[39;49m\u001b[38;5;124;43m\"\u001b[39;49m\u001b[43m,\u001b[49m\u001b[43mMINUS\u001b[49m\u001b[43m)\u001b[49m\n\u001b[1;32m    323\u001b[0m d\u001b[38;5;241m=\u001b[39m\u001b[38;5;241m0\u001b[39m\n\u001b[1;32m    324\u001b[0m d \u001b[38;5;241m=\u001b[39m np\u001b[38;5;241m.\u001b[39msum((lattice\u001b[38;5;241m.\u001b[39mp[:]\u001b[38;5;241m*\u001b[39mlattice\u001b[38;5;241m.\u001b[39mmmp[:]))\n",
      "File \u001b[0;32m/pscratch/sd/d/diptarko/Thesis/Advance-Computational-Physics/kmc_python/util_cuda.py:352\u001b[0m, in \u001b[0;36mmatd2d\u001b[0;34m(src, dest, isign)\u001b[0m\n\u001b[1;32m    348\u001b[0m n \u001b[38;5;241m=\u001b[39m \u001b[38;5;28;01mNone\u001b[39;00m\n\u001b[1;32m    350\u001b[0m \u001b[38;5;28;01mglobal\u001b[39;00m Xup,Xdn,Tup,Tdn, volume, lattice\n\u001b[0;32m--> 352\u001b[0m \u001b[43mgather\u001b[49m\u001b[43m(\u001b[49m\u001b[43msrc\u001b[49m\u001b[43m,\u001b[49m\u001b[43m \u001b[49m\u001b[43mXup\u001b[49m\u001b[43m,\u001b[49m\u001b[43m \u001b[49m\u001b[43mgen_pt\u001b[49m\u001b[43m)\u001b[49m\n\u001b[1;32m    353\u001b[0m lattice[dest][:] \u001b[38;5;241m=\u001b[39m \u001b[38;5;241m0.5\u001b[39m\u001b[38;5;241m*\u001b[39mlattice\u001b[38;5;241m.\u001b[39msign[:]\u001b[38;5;241m*\u001b[39mgen_pt[:]\n\u001b[1;32m    355\u001b[0m gather(src, Xdn, gen_pt)\n",
      "File \u001b[0;32m/pscratch/sd/d/diptarko/Thesis/Advance-Computational-Physics/kmc_python/util_cuda.py:473\u001b[0m, in \u001b[0;36mgather\u001b[0;34m(field, index, dest)\u001b[0m\n\u001b[1;32m    471\u001b[0m \u001b[38;5;28;01mglobal\u001b[39;00m neighbor, lattice\n\u001b[1;32m    472\u001b[0m \u001b[38;5;28;01mglobal\u001b[39;00m gen_pt\n\u001b[0;32m--> 473\u001b[0m gen_pt \u001b[38;5;241m=\u001b[39m \u001b[43mlattice\u001b[49m\u001b[43m[\u001b[49m\u001b[43mfield\u001b[49m\u001b[43m]\u001b[49m\u001b[43m[\u001b[49m\u001b[43mneighbor\u001b[49m\u001b[43m[\u001b[49m\u001b[43mindex\u001b[49m\u001b[43m,\u001b[49m\u001b[43m:\u001b[49m\u001b[43m]\u001b[49m\u001b[43m]\u001b[49m\u001b[38;5;241m.\u001b[39mcopy()\n",
      "File \u001b[0;32mcupy/_core/core.pyx:1521\u001b[0m, in \u001b[0;36mcupy._core.core._ndarray_base.__getitem__\u001b[0;34m()\u001b[0m\n",
      "File \u001b[0;32mcupy/_core/_routines_indexing.pyx:42\u001b[0m, in \u001b[0;36mcupy._core._routines_indexing._ndarray_getitem\u001b[0;34m()\u001b[0m\n",
      "File \u001b[0;32mcupy/_core/core.pyx:829\u001b[0m, in \u001b[0;36mcupy._core.core._ndarray_base.take\u001b[0;34m()\u001b[0m\n",
      "File \u001b[0;32mcupy/_core/_routines_indexing.pyx:131\u001b[0m, in \u001b[0;36mcupy._core._routines_indexing._ndarray_take\u001b[0;34m()\u001b[0m\n",
      "File \u001b[0;32mcupy/_core/_routines_indexing.pyx:786\u001b[0m, in \u001b[0;36mcupy._core._routines_indexing._take\u001b[0;34m()\u001b[0m\n",
      "File \u001b[0;32m/global/common/software/nersc/pe/conda-envs/24.1.0/python-3.11/nersc-python/lib/python3.11/site-packages/numpy/core/numeric.py:1855\u001b[0m, in \u001b[0;36misscalar\u001b[0;34m(element)\u001b[0m\n\u001b[1;32m   1851\u001b[0m \u001b[38;5;28;01mdef\u001b[39;00m \u001b[38;5;21m_frombuffer\u001b[39m(buf, dtype, shape, order):\n\u001b[1;32m   1852\u001b[0m     \u001b[38;5;28;01mreturn\u001b[39;00m frombuffer(buf, dtype\u001b[38;5;241m=\u001b[39mdtype)\u001b[38;5;241m.\u001b[39mreshape(shape, order\u001b[38;5;241m=\u001b[39morder)\n\u001b[0;32m-> 1855\u001b[0m \u001b[38;5;129m@set_module\u001b[39m(\u001b[38;5;124m'\u001b[39m\u001b[38;5;124mnumpy\u001b[39m\u001b[38;5;124m'\u001b[39m)\n\u001b[1;32m   1856\u001b[0m \u001b[38;5;28;01mdef\u001b[39;00m \u001b[38;5;21misscalar\u001b[39m(element):\n\u001b[1;32m   1857\u001b[0m \u001b[38;5;250m    \u001b[39m\u001b[38;5;124;03m\"\"\"\u001b[39;00m\n\u001b[1;32m   1858\u001b[0m \u001b[38;5;124;03m    Returns True if the type of `element` is a scalar type.\u001b[39;00m\n\u001b[1;32m   1859\u001b[0m \n\u001b[0;32m   (...)\u001b[0m\n\u001b[1;32m   1929\u001b[0m \n\u001b[1;32m   1930\u001b[0m \u001b[38;5;124;03m    \"\"\"\u001b[39;00m\n\u001b[1;32m   1931\u001b[0m     \u001b[38;5;28;01mreturn\u001b[39;00m (\u001b[38;5;28misinstance\u001b[39m(element, generic)\n\u001b[1;32m   1932\u001b[0m             \u001b[38;5;129;01mor\u001b[39;00m \u001b[38;5;28mtype\u001b[39m(element) \u001b[38;5;129;01min\u001b[39;00m ScalarType\n\u001b[1;32m   1933\u001b[0m             \u001b[38;5;129;01mor\u001b[39;00m \u001b[38;5;28misinstance\u001b[39m(element, numbers\u001b[38;5;241m.\u001b[39mNumber))\n",
      "\u001b[0;31mKeyboardInterrupt\u001b[0m: "
     ]
    }
   ],
   "source": [
    "\n",
    "_,_ = main(prompt=2,file=None,dict_=config,suppress_output=True)"
   ]
  },
  {
   "cell_type": "code",
   "execution_count": 13,
   "id": "6c72f5f5-4d18-40bf-906c-169cbe4f91e9",
   "metadata": {
    "tags": []
   },
   "outputs": [],
   "source": [
    "config[\"nx\"] = 64\n",
    "config[\"nt\"] = 64\n",
    "config[\"kr_trajectory_length\"] = 200\n",
    "config[\"step_size\"] = 0.05"
   ]
  },
  {
   "cell_type": "code",
   "execution_count": 14,
   "id": "f9627503-a26a-47d5-8248-cb22daa23499",
   "metadata": {
    "tags": []
   },
   "outputs": [
    {
     "data": {
      "application/vnd.jupyter.widget-view+json": {
       "model_id": "edee8f55b5fa485aa643da834b4dfddc",
       "version_major": 2,
       "version_minor": 0
      },
      "text/plain": [
       "  0%|          | 0/200 [00:00<?, ?it/s]"
      ]
     },
     "metadata": {},
     "output_type": "display_data"
    },
    {
     "ename": "KeyboardInterrupt",
     "evalue": "",
     "output_type": "error",
     "traceback": [
      "\u001b[0;31m---------------------------------------------------------------------------\u001b[0m",
      "\u001b[0;31mKeyboardInterrupt\u001b[0m                         Traceback (most recent call last)",
      "Cell \u001b[0;32mIn[14], line 1\u001b[0m\n\u001b[0;32m----> 1\u001b[0m _,_ \u001b[38;5;241m=\u001b[39m \u001b[43mmain\u001b[49m\u001b[43m(\u001b[49m\u001b[43mprompt\u001b[49m\u001b[38;5;241;43m=\u001b[39;49m\u001b[38;5;241;43m2\u001b[39;49m\u001b[43m,\u001b[49m\u001b[43mfile\u001b[49m\u001b[38;5;241;43m=\u001b[39;49m\u001b[38;5;28;43;01mNone\u001b[39;49;00m\u001b[43m,\u001b[49m\u001b[43mdict_\u001b[49m\u001b[38;5;241;43m=\u001b[39;49m\u001b[43mconfig\u001b[49m\u001b[43m,\u001b[49m\u001b[43msuppress_output\u001b[49m\u001b[38;5;241;43m=\u001b[39;49m\u001b[38;5;28;43;01mTrue\u001b[39;49;00m\u001b[43m)\u001b[49m\n",
      "File \u001b[0;32m/pscratch/sd/d/diptarko/Thesis/Advance-Computational-Physics/kmc_python/util_cuda.py:677\u001b[0m, in \u001b[0;36mmain\u001b[0;34m(prompt, file, dict_, suppress_output)\u001b[0m\n\u001b[1;32m    674\u001b[0m lattice\u001b[38;5;241m.\u001b[39mzeta \u001b[38;5;241m=\u001b[39m np\u001b[38;5;241m.\u001b[39mrandom\u001b[38;5;241m.\u001b[39mnormal(loc\u001b[38;5;241m=\u001b[39m\u001b[38;5;241m0\u001b[39m,scale\u001b[38;5;241m=\u001b[39m(\u001b[38;5;241m1\u001b[39m\u001b[38;5;241m/\u001b[39mmath\u001b[38;5;241m.\u001b[39msqrt(\u001b[38;5;241m2\u001b[39m)),size\u001b[38;5;241m=\u001b[39mlattice\u001b[38;5;241m.\u001b[39mzeta\u001b[38;5;241m.\u001b[39mshape)\n\u001b[1;32m    676\u001b[0m \u001b[38;5;28;01mfor\u001b[39;00m k \u001b[38;5;129;01min\u001b[39;00m \u001b[38;5;28mrange\u001b[39m(\u001b[38;5;241m0\u001b[39m,KRmax):\n\u001b[0;32m--> 677\u001b[0m     krflag \u001b[38;5;241m=\u001b[39m \u001b[43mkramer\u001b[49m\u001b[43m(\u001b[49m\u001b[43m)\u001b[49m\n\u001b[1;32m    678\u001b[0m     \u001b[38;5;28;01mif\u001b[39;00m krflag \u001b[38;5;241m==\u001b[39m \u001b[38;5;241m0\u001b[39m:\n\u001b[1;32m    679\u001b[0m         numkr \u001b[38;5;241m=\u001b[39m numkr \u001b[38;5;241m+\u001b[39m \u001b[38;5;241m1\u001b[39m\n",
      "File \u001b[0;32m/pscratch/sd/d/diptarko/Thesis/Advance-Computational-Physics/kmc_python/util_cuda.py:500\u001b[0m, in \u001b[0;36mkramer\u001b[0;34m()\u001b[0m\n\u001b[1;32m    496\u001b[0m piup(Step\u001b[38;5;241m/\u001b[39m\u001b[38;5;241m2\u001b[39m)\n\u001b[1;32m    498\u001b[0m lattice\u001b[38;5;241m.\u001b[39mphi[:] \u001b[38;5;241m=\u001b[39m lattice\u001b[38;5;241m.\u001b[39mphi[:] \u001b[38;5;241m+\u001b[39m Step\u001b[38;5;241m*\u001b[39mlattice\u001b[38;5;241m.\u001b[39mpi[:]\n\u001b[0;32m--> 500\u001b[0m \u001b[43mpiup\u001b[49m\u001b[43m(\u001b[49m\u001b[43mStep\u001b[49m\u001b[38;5;241;43m/\u001b[39;49m\u001b[38;5;241;43m2\u001b[39;49m\u001b[43m)\u001b[49m\n\u001b[1;32m    502\u001b[0m hnew \u001b[38;5;241m=\u001b[39m hamil(\u001b[38;5;241m1\u001b[39m,\u001b[38;5;241m1\u001b[39m)\n\u001b[1;32m    503\u001b[0m \u001b[38;5;66;03m# print(f\"New Hamiltonian = {hnew}\")\u001b[39;00m\n",
      "File \u001b[0;32m/pscratch/sd/d/diptarko/Thesis/Advance-Computational-Physics/kmc_python/util_cuda.py:617\u001b[0m, in \u001b[0;36mpiup\u001b[0;34m(t)\u001b[0m\n\u001b[1;32m    614\u001b[0m lattice\u001b[38;5;241m.\u001b[39mpi[:] \u001b[38;5;241m=\u001b[39m lattice\u001b[38;5;241m.\u001b[39mpi[:] \u001b[38;5;241m-\u001b[39m ((\u001b[38;5;241m1\u001b[39m\u001b[38;5;241m/\u001b[39m(G\u001b[38;5;241m*\u001b[39mG)) \u001b[38;5;241m*\u001b[39m lattice\u001b[38;5;241m.\u001b[39mphi[:] \u001b[38;5;241m*\u001b[39m t)\n\u001b[1;32m    616\u001b[0m \u001b[38;5;28;01mfor\u001b[39;00m n \u001b[38;5;129;01min\u001b[39;00m \u001b[38;5;28mrange\u001b[39m(Nf):\n\u001b[0;32m--> 617\u001b[0m     \u001b[43mcongrad\u001b[49m\u001b[43m(\u001b[49m\u001b[38;5;124;43m\"\u001b[39;49m\u001b[38;5;124;43mzeta\u001b[39;49m\u001b[38;5;124;43m\"\u001b[39;49m\u001b[43m,\u001b[49m\u001b[38;5;124;43m\"\u001b[39;49m\u001b[38;5;124;43mxi\u001b[39;49m\u001b[38;5;124;43m\"\u001b[39;49m\u001b[43m,\u001b[49m\u001b[43m \u001b[49m\u001b[43mCgiterP\u001b[49m\u001b[43m,\u001b[49m\u001b[43m \u001b[49m\u001b[43mResidueP\u001b[49m\u001b[43m,\u001b[49m\u001b[43m \u001b[49m\u001b[38;5;241;43m1\u001b[39;49m\u001b[43m,\u001b[49m\u001b[43m \u001b[49m\u001b[43mn\u001b[49m\u001b[43m)\u001b[49m\n\u001b[1;32m    618\u001b[0m     matp2p(\u001b[38;5;124m\"\u001b[39m\u001b[38;5;124mxi\u001b[39m\u001b[38;5;124m\"\u001b[39m,\u001b[38;5;124m\"\u001b[39m\u001b[38;5;124momega\u001b[39m\u001b[38;5;124m\"\u001b[39m,PLUS,n)\n\u001b[1;32m    619\u001b[0m     lattice\u001b[38;5;241m.\u001b[39mpi[:] \u001b[38;5;241m=\u001b[39m lattice\u001b[38;5;241m.\u001b[39mpi[:] \u001b[38;5;241m+\u001b[39m (\u001b[38;5;241m2\u001b[39m \u001b[38;5;241m*\u001b[39m lattice\u001b[38;5;241m.\u001b[39momega[:, n] \u001b[38;5;241m*\u001b[39m lattice\u001b[38;5;241m.\u001b[39mxi[:, n] \u001b[38;5;241m*\u001b[39m t)\n",
      "File \u001b[0;32m/pscratch/sd/d/diptarko/Thesis/Advance-Computational-Physics/kmc_python/util_cuda.py:336\u001b[0m, in \u001b[0;36mcongrad\u001b[0;34m(src, dest, cgiter, residue, cgflag, flv)\u001b[0m\n\u001b[1;32m    333\u001b[0m dsize_r \u001b[38;5;241m=\u001b[39m \u001b[38;5;241m0\u001b[39m\n\u001b[1;32m    335\u001b[0m lattice\u001b[38;5;241m.\u001b[39mp[:] \u001b[38;5;241m=\u001b[39m lattice\u001b[38;5;241m.\u001b[39mr[:] \u001b[38;5;241m+\u001b[39m b\u001b[38;5;241m*\u001b[39mlattice\u001b[38;5;241m.\u001b[39mp[:]\n\u001b[0;32m--> 336\u001b[0m dsize_r \u001b[38;5;241m=\u001b[39m \u001b[43mnp\u001b[49m\u001b[38;5;241;43m.\u001b[39;49m\u001b[43msum\u001b[49m\u001b[43m(\u001b[49m\u001b[43mlattice\u001b[49m\u001b[38;5;241;43m.\u001b[39;49m\u001b[43mr\u001b[49m\u001b[43m[\u001b[49m\u001b[43mi\u001b[49m\u001b[43m]\u001b[49m\u001b[38;5;241;43m*\u001b[39;49m\u001b[38;5;241;43m*\u001b[39;49m\u001b[38;5;241;43m2\u001b[39;49m\u001b[43m)\u001b[49m\n\u001b[1;32m    337\u001b[0m size_r \u001b[38;5;241m=\u001b[39m math\u001b[38;5;241m.\u001b[39msqrt(dsize_r)\u001b[38;5;241m/\u001b[39msize_src\n\u001b[1;32m    338\u001b[0m \u001b[38;5;66;03m# print(f\"CG_MD Step no {niter}\",size_r)\u001b[39;00m\n",
      "File \u001b[0;32m/global/common/software/nersc/pe/conda-envs/24.1.0/python-3.11/nersc-python/lib/python3.11/site-packages/cupy/_math/sumprod.py:38\u001b[0m, in \u001b[0;36msum\u001b[0;34m(a, axis, dtype, out, keepdims)\u001b[0m\n\u001b[1;32m     34\u001b[0m     \u001b[38;5;28;01mreturn\u001b[39;00m _fusion_thread_local\u001b[38;5;241m.\u001b[39mcall_reduction(\n\u001b[1;32m     35\u001b[0m         func, a, axis\u001b[38;5;241m=\u001b[39maxis, dtype\u001b[38;5;241m=\u001b[39mdtype, out\u001b[38;5;241m=\u001b[39mout)\n\u001b[1;32m     37\u001b[0m \u001b[38;5;66;03m# TODO(okuta): check type\u001b[39;00m\n\u001b[0;32m---> 38\u001b[0m \u001b[38;5;28;01mreturn\u001b[39;00m \u001b[43ma\u001b[49m\u001b[38;5;241;43m.\u001b[39;49m\u001b[43msum\u001b[49m\u001b[43m(\u001b[49m\u001b[43maxis\u001b[49m\u001b[43m,\u001b[49m\u001b[43m \u001b[49m\u001b[43mdtype\u001b[49m\u001b[43m,\u001b[49m\u001b[43m \u001b[49m\u001b[43mout\u001b[49m\u001b[43m,\u001b[49m\u001b[43m \u001b[49m\u001b[43mkeepdims\u001b[49m\u001b[43m)\u001b[49m\n",
      "\u001b[0;31mKeyboardInterrupt\u001b[0m: "
     ]
    }
   ],
   "source": [
    "_,_ = main(prompt=2,file=None,dict_=config,suppress_output=True)"
   ]
  },
  {
   "cell_type": "code",
   "execution_count": 16,
   "id": "6ee44d3e-e64c-4a3e-b319-85fda01d8a44",
   "metadata": {
    "tags": []
   },
   "outputs": [],
   "source": [
    "config[\"nx\"] = 128\n",
    "config[\"nt\"] = 128\n",
    "config[\"kr_trajectory_length\"] = 200\n",
    "config[\"step_size\"] = 0.05\n",
    "\n",
    "_,_ = main(prompt=2,file=None,dict_=config,suppress_output=True)"
   ]
  },
  {
   "cell_type": "code",
   "execution_count": null,
   "id": "9b07212f-d0f7-463a-8d8e-182d39b34154",
   "metadata": {
    "tags": []
   },
   "outputs": [
    {
     "data": {
      "application/vnd.jupyter.widget-view+json": {
       "model_id": "1db839af0f4f4da285c15febe5c2e65e",
       "version_major": 2,
       "version_minor": 0
      },
      "text/plain": [
       "  0%|          | 0/200 [00:00<?, ?it/s]"
      ]
     },
     "metadata": {},
     "output_type": "display_data"
    },
    {
     "ename": "KeyboardInterrupt",
     "evalue": "",
     "output_type": "error",
     "traceback": [
      "\u001b[0;31m---------------------------------------------------------------------------\u001b[0m",
      "\u001b[0;31mKeyboardInterrupt\u001b[0m                         Traceback (most recent call last)",
      "Cell \u001b[0;32mIn[17], line 1\u001b[0m\n\u001b[0;32m----> 1\u001b[0m _,_ \u001b[38;5;241m=\u001b[39m \u001b[43mmain\u001b[49m\u001b[43m(\u001b[49m\u001b[43mprompt\u001b[49m\u001b[38;5;241;43m=\u001b[39;49m\u001b[38;5;241;43m2\u001b[39;49m\u001b[43m,\u001b[49m\u001b[43mfile\u001b[49m\u001b[38;5;241;43m=\u001b[39;49m\u001b[38;5;28;43;01mNone\u001b[39;49;00m\u001b[43m,\u001b[49m\u001b[43mdict_\u001b[49m\u001b[38;5;241;43m=\u001b[39;49m\u001b[43mconfig\u001b[49m\u001b[43m,\u001b[49m\u001b[43msuppress_output\u001b[49m\u001b[38;5;241;43m=\u001b[39;49m\u001b[38;5;28;43;01mTrue\u001b[39;49;00m\u001b[43m)\u001b[49m\n",
      "File \u001b[0;32m/pscratch/sd/d/diptarko/Thesis/Advance-Computational-Physics/kmc_python/util_cuda.py:677\u001b[0m, in \u001b[0;36mmain\u001b[0;34m(prompt, file, dict_, suppress_output)\u001b[0m\n\u001b[1;32m    674\u001b[0m lattice\u001b[38;5;241m.\u001b[39mzeta \u001b[38;5;241m=\u001b[39m np\u001b[38;5;241m.\u001b[39mrandom\u001b[38;5;241m.\u001b[39mnormal(loc\u001b[38;5;241m=\u001b[39m\u001b[38;5;241m0\u001b[39m,scale\u001b[38;5;241m=\u001b[39m(\u001b[38;5;241m1\u001b[39m\u001b[38;5;241m/\u001b[39mmath\u001b[38;5;241m.\u001b[39msqrt(\u001b[38;5;241m2\u001b[39m)),size\u001b[38;5;241m=\u001b[39mlattice\u001b[38;5;241m.\u001b[39mzeta\u001b[38;5;241m.\u001b[39mshape)\n\u001b[1;32m    676\u001b[0m \u001b[38;5;28;01mfor\u001b[39;00m k \u001b[38;5;129;01min\u001b[39;00m \u001b[38;5;28mrange\u001b[39m(\u001b[38;5;241m0\u001b[39m,KRmax):\n\u001b[0;32m--> 677\u001b[0m     krflag \u001b[38;5;241m=\u001b[39m \u001b[43mkramer\u001b[49m\u001b[43m(\u001b[49m\u001b[43m)\u001b[49m\n\u001b[1;32m    678\u001b[0m     \u001b[38;5;28;01mif\u001b[39;00m krflag \u001b[38;5;241m==\u001b[39m \u001b[38;5;241m0\u001b[39m:\n\u001b[1;32m    679\u001b[0m         numkr \u001b[38;5;241m=\u001b[39m numkr \u001b[38;5;241m+\u001b[39m \u001b[38;5;241m1\u001b[39m\n",
      "File \u001b[0;32m/pscratch/sd/d/diptarko/Thesis/Advance-Computational-Physics/kmc_python/util_cuda.py:502\u001b[0m, in \u001b[0;36mkramer\u001b[0;34m()\u001b[0m\n\u001b[1;32m    498\u001b[0m lattice\u001b[38;5;241m.\u001b[39mphi[:] \u001b[38;5;241m=\u001b[39m lattice\u001b[38;5;241m.\u001b[39mphi[:] \u001b[38;5;241m+\u001b[39m Step\u001b[38;5;241m*\u001b[39mlattice\u001b[38;5;241m.\u001b[39mpi[:]\n\u001b[1;32m    500\u001b[0m piup(Step\u001b[38;5;241m/\u001b[39m\u001b[38;5;241m2\u001b[39m)\n\u001b[0;32m--> 502\u001b[0m hnew \u001b[38;5;241m=\u001b[39m \u001b[43mhamil\u001b[49m\u001b[43m(\u001b[49m\u001b[38;5;241;43m1\u001b[39;49m\u001b[43m,\u001b[49m\u001b[38;5;241;43m1\u001b[39;49m\u001b[43m)\u001b[49m\n\u001b[1;32m    503\u001b[0m \u001b[38;5;66;03m# print(f\"New Hamiltonian = {hnew}\")\u001b[39;00m\n\u001b[1;32m    505\u001b[0m xx \u001b[38;5;241m=\u001b[39m random\u001b[38;5;241m.\u001b[39mrandom()\n",
      "File \u001b[0;32m/pscratch/sd/d/diptarko/Thesis/Advance-Computational-Physics/kmc_python/util_cuda.py:552\u001b[0m, in \u001b[0;36mhamil\u001b[0;34m(hflag, flag)\u001b[0m\n\u001b[1;32m    550\u001b[0m \u001b[38;5;28;01mif\u001b[39;00m hflag \u001b[38;5;241m!=\u001b[39m \u001b[38;5;241m0\u001b[39m:\n\u001b[1;32m    551\u001b[0m     \u001b[38;5;28;01mfor\u001b[39;00m n \u001b[38;5;129;01min\u001b[39;00m \u001b[38;5;28mrange\u001b[39m(Nf):\n\u001b[0;32m--> 552\u001b[0m         \u001b[43mcongrad\u001b[49m\u001b[43m(\u001b[49m\u001b[38;5;124;43m\"\u001b[39;49m\u001b[38;5;124;43mzeta\u001b[39;49m\u001b[38;5;124;43m\"\u001b[39;49m\u001b[43m,\u001b[49m\u001b[38;5;124;43m\"\u001b[39;49m\u001b[38;5;124;43meta\u001b[39;49m\u001b[38;5;124;43m\"\u001b[39;49m\u001b[43m,\u001b[49m\u001b[43mCgiterH\u001b[49m\u001b[43m,\u001b[49m\u001b[43m \u001b[49m\u001b[43mResidueH\u001b[49m\u001b[43m,\u001b[49m\u001b[43m \u001b[49m\u001b[43mflag\u001b[49m\u001b[43m,\u001b[49m\u001b[43m \u001b[49m\u001b[43mn\u001b[49m\u001b[43m)\u001b[49m\n\u001b[1;32m    553\u001b[0m         hml \u001b[38;5;241m=\u001b[39m hml \u001b[38;5;241m+\u001b[39m np\u001b[38;5;241m.\u001b[39msum(lattice\u001b[38;5;241m.\u001b[39mzeta[:,n] \u001b[38;5;241m*\u001b[39m lattice\u001b[38;5;241m.\u001b[39meta[:,n])\n\u001b[1;32m    554\u001b[0m \u001b[38;5;28;01melse\u001b[39;00m:\n",
      "File \u001b[0;32m/pscratch/sd/d/diptarko/Thesis/Advance-Computational-Physics/kmc_python/util_cuda.py:321\u001b[0m, in \u001b[0;36mcongrad\u001b[0;34m(src, dest, cgiter, residue, cgflag, flv)\u001b[0m\n\u001b[1;32m    318\u001b[0m c \u001b[38;5;241m=\u001b[39m cp\n\u001b[1;32m    320\u001b[0m matd2d(\u001b[38;5;124m\"\u001b[39m\u001b[38;5;124mp\u001b[39m\u001b[38;5;124m\"\u001b[39m,\u001b[38;5;124m\"\u001b[39m\u001b[38;5;124mmp\u001b[39m\u001b[38;5;124m\"\u001b[39m,PLUS)\n\u001b[0;32m--> 321\u001b[0m \u001b[43mmatd2d\u001b[49m\u001b[43m(\u001b[49m\u001b[38;5;124;43m\"\u001b[39;49m\u001b[38;5;124;43mmp\u001b[39;49m\u001b[38;5;124;43m\"\u001b[39;49m\u001b[43m,\u001b[49m\u001b[38;5;124;43m\"\u001b[39;49m\u001b[38;5;124;43mmmp\u001b[39;49m\u001b[38;5;124;43m\"\u001b[39;49m\u001b[43m,\u001b[49m\u001b[43mMINUS\u001b[49m\u001b[43m)\u001b[49m\n\u001b[1;32m    323\u001b[0m d\u001b[38;5;241m=\u001b[39m\u001b[38;5;241m0\u001b[39m\n\u001b[1;32m    324\u001b[0m d \u001b[38;5;241m=\u001b[39m np\u001b[38;5;241m.\u001b[39msum((lattice\u001b[38;5;241m.\u001b[39mp[:]\u001b[38;5;241m*\u001b[39mlattice\u001b[38;5;241m.\u001b[39mmmp[:]))\n",
      "File \u001b[0;32m/pscratch/sd/d/diptarko/Thesis/Advance-Computational-Physics/kmc_python/util_cuda.py:355\u001b[0m, in \u001b[0;36mmatd2d\u001b[0;34m(src, dest, isign)\u001b[0m\n\u001b[1;32m    352\u001b[0m gather(src, Xup, gen_pt)\n\u001b[1;32m    353\u001b[0m lattice[dest][:] \u001b[38;5;241m=\u001b[39m \u001b[38;5;241m0.5\u001b[39m\u001b[38;5;241m*\u001b[39mlattice\u001b[38;5;241m.\u001b[39msign[:]\u001b[38;5;241m*\u001b[39mgen_pt[:]\n\u001b[0;32m--> 355\u001b[0m \u001b[43mgather\u001b[49m\u001b[43m(\u001b[49m\u001b[43msrc\u001b[49m\u001b[43m,\u001b[49m\u001b[43m \u001b[49m\u001b[43mXdn\u001b[49m\u001b[43m,\u001b[49m\u001b[43m \u001b[49m\u001b[43mgen_pt\u001b[49m\u001b[43m)\u001b[49m\n\u001b[1;32m    356\u001b[0m lattice[dest][:] \u001b[38;5;241m=\u001b[39m lattice[dest][:] \u001b[38;5;241m-\u001b[39m \u001b[38;5;241m0.5\u001b[39m\u001b[38;5;241m*\u001b[39mlattice\u001b[38;5;241m.\u001b[39msign[:] \u001b[38;5;241m*\u001b[39m gen_pt[:]\n\u001b[1;32m    358\u001b[0m gather(src, Tup, gen_pt)\n",
      "File \u001b[0;32m/pscratch/sd/d/diptarko/Thesis/Advance-Computational-Physics/kmc_python/util_cuda.py:469\u001b[0m, in \u001b[0;36mgather\u001b[0;34m(field, index, dest)\u001b[0m\n\u001b[1;32m    465\u001b[0m             neighbor[\u001b[38;5;28mdir\u001b[39m,i] \u001b[38;5;241m=\u001b[39m j\n\u001b[1;32m    466\u001b[0m     neighbor \u001b[38;5;241m=\u001b[39m neighbor\u001b[38;5;241m.\u001b[39mastype(np\u001b[38;5;241m.\u001b[39muint16)\n\u001b[0;32m--> 469\u001b[0m \u001b[38;5;28;01mdef\u001b[39;00m \u001b[38;5;21mgather\u001b[39m(field, index, dest):\n\u001b[1;32m    471\u001b[0m     \u001b[38;5;28;01mglobal\u001b[39;00m neighbor, lattice\n\u001b[1;32m    472\u001b[0m     \u001b[38;5;28;01mglobal\u001b[39;00m gen_pt\n",
      "\u001b[0;31mKeyboardInterrupt\u001b[0m: "
     ]
    }
   ],
   "source": [
    "_,_ = main(prompt=2,file=None,dict_=config,suppress_output=True)"
   ]
  },
  {
   "cell_type": "code",
   "execution_count": null,
   "id": "07900581-11d6-4eaf-b9b7-5a63852aacc9",
   "metadata": {
    "tags": []
   },
   "outputs": [],
   "source": [
    "config[\"nx\"] = 1024\n",
    "config[\"nt\"] = 1024\n",
    "config[\"kr_trajectory_length\"] = 200\n",
    "config[\"step_size\"] = 0.001\n",
    "\n",
    "_,_ = main(prompt=2,file=None,dict_=config,suppress_output=True)"
   ]
  },
  {
   "cell_type": "code",
   "execution_count": null,
   "id": "2a06e5a8-ab0a-4823-a502-ff532a8934d7",
   "metadata": {
    "tags": []
   },
   "outputs": [],
   "source": [
    "lambda_"
   ]
  },
  {
   "cell_type": "code",
   "execution_count": 84,
   "id": "92821866-c539-4183-b572-e1cce84b6d70",
   "metadata": {
    "tags": []
   },
   "outputs": [],
   "source": [
    "PROCESSES = 128\n",
    "configs = []\n",
    "for i in [0.5,0.54,0.6,0.64,0.7]:\n",
    "    config.update({\"coupling\":i})\n",
    "    configs.append(config.copy())\n"
   ]
  },
  {
   "cell_type": "code",
   "execution_count": null,
   "id": "d9cb99ea-43e8-4036-90ec-cdf9d615c347",
   "metadata": {},
   "outputs": [],
   "source": []
  },
  {
   "cell_type": "code",
   "execution_count": 85,
   "id": "d2b34fde-9db9-4d09-9d67-fd1f73698774",
   "metadata": {
    "tags": []
   },
   "outputs": [],
   "source": [
    "with multiprocessing.Pool(PROCESSES) as pool:\n",
    "    # results = [pool.apply_async(main, [2,None,config_,True]) for config_ in configs]\n",
    "    results = pool.map(runner,configs)"
   ]
  },
  {
   "cell_type": "code",
   "execution_count": 86,
   "id": "d9f889ca-97f7-437e-9e4b-6787f9d1192c",
   "metadata": {
    "tags": []
   },
   "outputs": [],
   "source": [
    "g_ = []\n",
    "av_sigma_ = []\n",
    "lambda_ = []\n",
    "accp_ = []\n",
    "for i,stat in enumerate(results):\n",
    "    av_sigma = sum(stat[0][-500:])/len(stat[0][-500:])\n",
    "    accp = stat[1]\n",
    "    g = configs[i][\"coupling\"]\n",
    "    av_sigma_.append(av_sigma)\n",
    "    accp_.append(accp)\n",
    "    g_.append(g)\n",
    "    lambda_.append(1/g**2)"
   ]
  },
  {
   "cell_type": "code",
   "execution_count": 89,
   "id": "4f689400-3473-4332-93f7-f66b2ecbd44d",
   "metadata": {
    "tags": []
   },
   "outputs": [
    {
     "data": {
      "text/plain": [
       "<matplotlib.collections.PathCollection at 0x7f742a3e60d0>"
      ]
     },
     "execution_count": 89,
     "metadata": {},
     "output_type": "execute_result"
    },
    {
     "data": {
      "image/png": "[encoded data removed]",
      "text/plain": [
       "<Figure size 640x480 with 1 Axes>"
      ]
     },
     "metadata": {},
     "output_type": "display_data"
    }
   ],
   "source": [
    "plt.plot(g_,av_sigma_)\n",
    "plt.grid()\n",
    "plt.scatter(g_,av_sigma_)"
   ]
  },
  {
   "cell_type": "code",
   "execution_count": 90,
   "id": "4619f388-1cfb-4a07-9a09-ad6ac5a533e4",
   "metadata": {
    "tags": []
   },
   "outputs": [
    {
     "data": {
      "text/plain": [
       "[0.5, 0.54, 0.6, 0.64, 0.7]"
      ]
     },
     "execution_count": 90,
     "metadata": {},
     "output_type": "execute_result"
    }
   ],
   "source": [
    "g_"
   ]
  },
  {
   "cell_type": "code",
   "execution_count": 91,
   "id": "095c79b7-4a86-4cfa-827f-68d84acb4ace",
   "metadata": {
    "tags": []
   },
   "outputs": [
    {
     "data": {
      "text/plain": [
       "[0.6819772211252517,\n",
       " 0.7375152136138695,\n",
       " 0.8195086072324435,\n",
       " 0.8731374559081053,\n",
       " 0.9462335215022878]"
      ]
     },
     "execution_count": 91,
     "metadata": {},
     "output_type": "execute_result"
    }
   ],
   "source": [
    "av_sigma_"
   ]
  },
  {
   "cell_type": "code",
   "execution_count": 69,
   "id": "2f45d245-ab24-4a98-8d2a-1879f5581b21",
   "metadata": {
    "tags": []
   },
   "outputs": [
    {
     "data": {
      "text/plain": [
       "[<matplotlib.lines.Line2D at 0x7f742a8f21d0>]"
      ]
     },
     "execution_count": 69,
     "metadata": {},
     "output_type": "execute_result"
    },
    {
     "data": {
      "image/png": "[encoded data removed]",
      "text/plain": [
       "<Figure size 640x480 with 1 Axes>"
      ]
     },
     "metadata": {},
     "output_type": "display_data"
    }
   ],
   "source": [
    "\n",
    "plt.plot(lambda_,av_sigma_)\n",
    "# plt.yscale(\"symlog\")\n",
    "# plt.ylim(0.1,1)\n",
    "# plt.xlim(3,5)"
   ]
  },
  {
   "cell_type": "code",
   "execution_count": null,
   "id": "d86566b5-dcd2-4d5c-8298-b1bc8c7a4c94",
   "metadata": {
    "tags": []
   },
   "outputs": [],
   "source": [
    "plt.scatter(g_,accp_)"
   ]
  },
  {
   "cell_type": "code",
   "execution_count": null,
   "id": "8d0e187e",
   "metadata": {
    "tags": []
   },
   "outputs": [],
   "source": [
    "plt.plot(arr)\n",
    "plt.xlabel(\"Steps\")\n",
    "plt.ylabel(\"<$\\sigma$>\")\n",
    "plt.grid(True)"
   ]
  },
  {
   "cell_type": "code",
   "execution_count": null,
   "id": "73a977e1",
   "metadata": {
    "tags": []
   },
   "outputs": [],
   "source": [
    "avs"
   ]
  },
  {
   "cell_type": "code",
   "execution_count": 19,
   "id": "694c417c-c502-4175-8f24-66bb3e2ee528",
   "metadata": {
    "tags": []
   },
   "outputs": [
    {
     "data": {
      "text/plain": [
       "([0.9962433717763787,\n",
       "  0.9819253122288357,\n",
       "  0.987909285664426,\n",
       "  0.987909285664426,\n",
       "  0.9905317989818088,\n",
       "  0.9964188497756985,\n",
       "  0.9941356766470958,\n",
       "  1.0167040138843293,\n",
       "  1.0244652928856737,\n",
       "  1.0244652928856737,\n",
       "  1.052915630895935,\n",
       "  1.079855226653581,\n",
       "  1.08638098349961,\n",
       "  1.1067188596107305,\n",
       "  1.1335525139705895,\n",
       "  1.1573271948364359,\n",
       "  1.169157259891203,\n",
       "  1.180002577801254,\n",
       "  1.180002577801254,\n",
       "  1.180002577801254,\n",
       "  1.180002577801254,\n",
       "  1.180002577801254,\n",
       "  1.1835957942136908,\n",
       "  1.200945131073015,\n",
       "  1.2276015497213142,\n",
       "  1.238812557151669,\n",
       "  1.2516414053648646,\n",
       "  1.2618639512215775,\n",
       "  1.2643027836280618,\n",
       "  1.2615141497052553,\n",
       "  1.260140716233305,\n",
       "  1.2690900250204218,\n",
       "  1.2688931729318766,\n",
       "  1.2669956191397613,\n",
       "  1.2634852714828284,\n",
       "  1.271309049291777,\n",
       "  1.274326489731906,\n",
       "  1.2764824603081202,\n",
       "  1.2764824603081202,\n",
       "  1.2847044925991882,\n",
       "  1.2804451752631065,\n",
       "  1.276190890939184,\n",
       "  1.2624659929078856,\n",
       "  1.252856333111633,\n",
       "  1.2672699770422162,\n",
       "  1.2592199026945998,\n",
       "  1.267674572979916,\n",
       "  1.2599655883881078,\n",
       "  1.2580036788230036,\n",
       "  1.2608982938932294,\n",
       "  1.2701262899451469,\n",
       "  1.2701262899451469,\n",
       "  1.2698299142644895,\n",
       "  1.266475595159069,\n",
       "  1.266475595159069,\n",
       "  1.261434981439447,\n",
       "  1.261370953443651,\n",
       "  1.3002133391843083,\n",
       "  1.3113057942068747,\n",
       "  1.2974256432113944,\n",
       "  1.2946708308809531,\n",
       "  1.3088706152777276,\n",
       "  1.3129417970557422,\n",
       "  1.3174265801380889,\n",
       "  1.325034178384343,\n",
       "  1.31547570889247,\n",
       "  1.3110167701958955,\n",
       "  1.2992953420360123,\n",
       "  1.3018046327525405,\n",
       "  1.29904509943578,\n",
       "  1.2953497876521336,\n",
       "  1.2923980523209526,\n",
       "  1.293378975506131,\n",
       "  1.297376060428173,\n",
       "  1.297935980753137,\n",
       "  1.296624950879312,\n",
       "  1.2931530351900857,\n",
       "  1.2982970931168916,\n",
       "  1.2982970931168916,\n",
       "  1.3008763451551424,\n",
       "  1.3069411068501808,\n",
       "  1.3056370016028744,\n",
       "  1.3089547064413303,\n",
       "  1.3241261534085704,\n",
       "  1.3211818192982476,\n",
       "  1.3328473759670616,\n",
       "  1.329905991927363,\n",
       "  1.3301082831246436,\n",
       "  1.3265836624814593,\n",
       "  1.3321732909637687,\n",
       "  1.3310570303006126,\n",
       "  1.3312017581949283,\n",
       "  1.3384554400180602,\n",
       "  1.3314869526769848,\n",
       "  1.3233544554745458,\n",
       "  1.3334804865507213,\n",
       "  1.3334804865507213,\n",
       "  1.3630305534594758,\n",
       "  1.355826039081717,\n",
       "  1.3395615636261966,\n",
       "  1.3395615636261966,\n",
       "  1.3396853184969224,\n",
       "  1.3407002162118027,\n",
       "  1.325383430047405,\n",
       "  1.3286883278433343,\n",
       "  1.3286883278433343,\n",
       "  1.3365784337412692,\n",
       "  1.335195635619284,\n",
       "  1.3558656165284733,\n",
       "  1.348373476970743,\n",
       "  1.3515845621560212,\n",
       "  1.3578505063429966,\n",
       "  1.3577841060933908,\n",
       "  1.3555130731295923,\n",
       "  1.3574699345877754,\n",
       "  1.358239057612802,\n",
       "  1.3577048254445756,\n",
       "  1.362323725279708,\n",
       "  1.3698982658161878,\n",
       "  1.3655099598472984,\n",
       "  1.3465651211904686,\n",
       "  1.3553828847849174,\n",
       "  1.3568296395528574,\n",
       "  1.3527639096807853,\n",
       "  1.3430373977906866,\n",
       "  1.3387415492578643,\n",
       "  1.3390453738259254,\n",
       "  1.3476309375620827,\n",
       "  1.3336086720552809,\n",
       "  1.3396344526480912,\n",
       "  1.33726029495217,\n",
       "  1.3175070228493833,\n",
       "  1.3108383574733615,\n",
       "  1.3167867759758072,\n",
       "  1.3192912706825346,\n",
       "  1.3107845680207184,\n",
       "  1.3115124198481352,\n",
       "  1.3076304696541328,\n",
       "  1.3041997357385742,\n",
       "  1.3035157726575937,\n",
       "  1.3095715969881268,\n",
       "  1.3161168865081256,\n",
       "  1.2997105077502233,\n",
       "  1.297323745298419,\n",
       "  1.304625541618302,\n",
       "  1.3095604648636665,\n",
       "  1.3145090582674388,\n",
       "  1.322491765237362,\n",
       "  1.3090522487519392,\n",
       "  1.3142416048645598,\n",
       "  1.3127566940483897,\n",
       "  1.3221123117647506,\n",
       "  1.3068656625689616,\n",
       "  1.2981714222131981,\n",
       "  1.2880456427469507,\n",
       "  1.2981490037566736,\n",
       "  1.2972513982691156,\n",
       "  1.3181413991636242,\n",
       "  1.315986596312635,\n",
       "  1.3221554585707607,\n",
       "  1.3322187196915989,\n",
       "  1.3175667491896732,\n",
       "  1.3175667491896732,\n",
       "  1.3112054017245924,\n",
       "  1.3131728383439878,\n",
       "  1.3193295712872366,\n",
       "  1.327747552625575,\n",
       "  1.3242052500472064,\n",
       "  1.3193449225077536,\n",
       "  1.3023262640520084,\n",
       "  1.318960898433773,\n",
       "  1.318960898433773,\n",
       "  1.3110405241316916,\n",
       "  1.3116382724925209,\n",
       "  1.3012539059117534,\n",
       "  1.3067834839924153,\n",
       "  1.3088654085908789,\n",
       "  1.3088654085908789,\n",
       "  1.3021682647288757,\n",
       "  1.304872472379118,\n",
       "  1.2962043296648615,\n",
       "  1.293515824472189,\n",
       "  1.2834790483264253,\n",
       "  1.274869063971726,\n",
       "  1.2803149977966315,\n",
       "  1.2803149977966315,\n",
       "  1.2803149977966315,\n",
       "  1.3009513147304423,\n",
       "  1.3053235687578972,\n",
       "  1.3017023747423404,\n",
       "  1.2986980093024771,\n",
       "  1.2950139194984502,\n",
       "  1.3013456705432882,\n",
       "  1.2937030643489549,\n",
       "  1.2982262602804382,\n",
       "  1.3056639868012376,\n",
       "  1.3151054561994002,\n",
       "  1.3252616816669298,\n",
       "  1.3220643644398264,\n",
       "  1.3213957562943885],\n",
       " 0.7625)"
      ]
     },
     "execution_count": 19,
     "metadata": {},
     "output_type": "execute_result"
    }
   ],
   "source": [
    "s"
   ]
  },
  {
   "cell_type": "code",
   "execution_count": null,
   "id": "a54de5f5-a030-4a3a-a8dc-f457da54083e",
   "metadata": {},
   "outputs": [],
   "source": []
  }
 ],
 "metadata": {
  "celltoolbar": "Tags",
  "kernelspec": {
   "display_name": "NERSC Python",
   "language": "python",
   "name": "python3"
  },
  "language_info": {
   "codemirror_mode": {
    "name": "ipython",
    "version": 3
   },
   "file_extension": ".py",
   "mimetype": "text/x-python",
   "name": "python",
   "nbconvert_exporter": "python",
   "pygments_lexer": "ipython3",
   "version": "3.11.7"
  }
 },
 "nbformat": 4,
 "nbformat_minor": 5
}
