{
 "cells": [
  {
   "cell_type": "code",
   "execution_count": 1,
   "id": "2a767831",
   "metadata": {},
   "outputs": [],
   "source": [
    "import sys\n",
    "sys.path.append(\"./hmc_python/\")\n",
    "import hmc_python\n",
    "from hmc_python.util import *\n",
    "from hmc_python.lparam import *\n"
   ]
  },
  {
   "cell_type": "code",
   "execution_count": 2,
   "id": "e4cc6350",
   "metadata": {},
   "outputs": [
    {
     "name": "stdout",
     "output_type": "stream",
     "text": [
      "GN model with HMC algorithm\n",
      "\n",
      "Alpha machine, Version 1\n",
      "\n",
      "type 0 for no prompts, 1 for prompts or 2 for list of prompts\n",
      "\n"
     ]
    },
    {
     "name": "stdout",
     "output_type": "stream",
     "text": [
      "Lattice dimensions = 16 16\n",
      "\n",
      "Switch_Flag = 0\n",
      "\n",
      "No of garbage loops = 1000\n",
      "bin_length = 1\n",
      "# of hmc iterations = 1000\n",
      "meas_length = 1\n",
      "prop_length = 1\n",
      "seg_length = 1\n",
      "no of md steps = 1000, step size = 0.1\n",
      "maximum no. of conj. grad. iterations = 1000,1000\n",
      "residues for conjugate grad = 1,1\n",
      " COLDLAT: Cold initial config. of `sigma' field\n",
      "Piup Calculation. \n",
      "\n"
     ]
    },
    {
     "ename": "AttributeError",
     "evalue": "'float' object has no attribute 'f'",
     "output_type": "error",
     "traceback": [
      "\u001b[1;31m---------------------------------------------------------------------------\u001b[0m",
      "\u001b[1;31mAttributeError\u001b[0m                            Traceback (most recent call last)",
      "Cell \u001b[1;32mIn[2], line 1\u001b[0m\n\u001b[1;32m----> 1\u001b[0m main()\n",
      "File \u001b[1;32mc:\\Users\\Lumin\\Desktop\\Advance-Computational-Physics\\hmc_python\\util.py:967\u001b[0m, in \u001b[0;36mmain\u001b[1;34m()\u001b[0m\n\u001b[0;32m    965\u001b[0m \u001b[38;5;28;01mfor\u001b[39;00m n \u001b[38;5;129;01min\u001b[39;00m \u001b[38;5;28mrange\u001b[39m(hmc_it):\n\u001b[0;32m    966\u001b[0m     no_acc \u001b[38;5;241m+\u001b[39m\u001b[38;5;241m=\u001b[39m \u001b[38;5;241m1\u001b[39m\n\u001b[1;32m--> 967\u001b[0m     no_hmc \u001b[38;5;241m+\u001b[39m\u001b[38;5;241m=\u001b[39m hmc()\n\u001b[0;32m    969\u001b[0m     \u001b[38;5;28;01mif\u001b[39;00m no_acc\u001b[38;5;241m<\u001b[39m\u001b[38;5;241m=\u001b[39mno_garbage:\n\u001b[0;32m    970\u001b[0m         garbage[g] \u001b[38;5;241m=\u001b[39m average_sigma()\n",
      "File \u001b[1;32mc:\\Users\\Lumin\\Desktop\\Advance-Computational-Physics\\hmc_python\\util.py:735\u001b[0m, in \u001b[0;36mhmc\u001b[1;34m()\u001b[0m\n\u001b[0;32m    732\u001b[0m     matp2p(\u001b[38;5;124m\"\u001b[39m\u001b[38;5;124meta\u001b[39m\u001b[38;5;124m\"\u001b[39m,\u001b[38;5;124m\"\u001b[39m\u001b[38;5;124mchi\u001b[39m\u001b[38;5;124m\"\u001b[39m,MINUS,EVENANDODD,n)\n\u001b[0;32m    734\u001b[0m hold \u001b[38;5;241m=\u001b[39m hamil(\u001b[38;5;241m0\u001b[39m,\u001b[38;5;241m1\u001b[39m) \u001b[38;5;66;03m# initial value of the Hamiltonian\u001b[39;00m\n\u001b[1;32m--> 735\u001b[0m piup(step\u001b[38;5;241m/\u001b[39m\u001b[38;5;241m2\u001b[39m) \u001b[38;5;66;03m# initial half step\u001b[39;00m\n\u001b[0;32m    737\u001b[0m \u001b[38;5;66;03m# Leap frog loop for n-1 full steps\u001b[39;00m\n\u001b[0;32m    738\u001b[0m \u001b[38;5;28;01mfor\u001b[39;00m j \u001b[38;5;129;01min\u001b[39;00m \u001b[38;5;28mrange\u001b[39m(\u001b[38;5;241m0\u001b[39m,mdstep\u001b[38;5;241m-\u001b[39m\u001b[38;5;241m1\u001b[39m):\n",
      "File \u001b[1;32mc:\\Users\\Lumin\\Desktop\\Advance-Computational-Physics\\hmc_python\\util.py:888\u001b[0m, in \u001b[0;36mpiup\u001b[1;34m(t)\u001b[0m\n\u001b[0;32m    886\u001b[0m matp2d(\u001b[38;5;124m\"\u001b[39m\u001b[38;5;124mchi\u001b[39m\u001b[38;5;124m\"\u001b[39m,\u001b[38;5;124m\"\u001b[39m\u001b[38;5;124meta\u001b[39m\u001b[38;5;124m\"\u001b[39m,PLUS,EVENANDODD,n)\n\u001b[0;32m    887\u001b[0m \u001b[38;5;28;01mfor\u001b[39;00m i \u001b[38;5;129;01min\u001b[39;00m \u001b[38;5;28mrange\u001b[39m(volume):\n\u001b[1;32m--> 888\u001b[0m     lattice[i]\u001b[38;5;241m.\u001b[39mmom \u001b[38;5;241m+\u001b[39m\u001b[38;5;241m=\u001b[39m (\u001b[38;5;241m2\u001b[39m \u001b[38;5;241m*\u001b[39m lattice[i]\u001b[38;5;241m.\u001b[39mp \u001b[38;5;241m*\u001b[39m lattice[i]\u001b[38;5;241m.\u001b[39meta\u001b[38;5;241m.\u001b[39mf[n] \u001b[38;5;241m*\u001b[39m t)\n",
      "\u001b[1;31mAttributeError\u001b[0m: 'float' object has no attribute 'f'"
     ]
    }
   ],
   "source": [
    "main()"
   ]
  },
  {
   "cell_type": "code",
   "execution_count": null,
   "id": "1c56712d",
   "metadata": {},
   "outputs": [],
   "source": [
    "lattice = get_lattice()"
   ]
  },
  {
   "cell_type": "code",
   "execution_count": null,
   "id": "b4cde60c",
   "metadata": {},
   "outputs": [
    {
     "data": {
      "text/plain": [
       "[-0.42352200308305576,\n",
       " -0.7050052961511187,\n",
       " -2.5574479482563457,\n",
       " 2.1110237750005556]"
      ]
     },
     "execution_count": 4,
     "metadata": {},
     "output_type": "execute_result"
    }
   ],
   "source": [
    "lattice[2][\"chi\"].f"
   ]
  },
  {
   "cell_type": "code",
   "execution_count": null,
   "id": "1136096e",
   "metadata": {},
   "outputs": [
    {
     "ename": "AttributeError",
     "evalue": "'float' object has no attribute 'f'",
     "output_type": "error",
     "traceback": [
      "\u001b[1;31m---------------------------------------------------------------------------\u001b[0m",
      "\u001b[1;31mAttributeError\u001b[0m                            Traceback (most recent call last)",
      "Cell \u001b[1;32mIn[5], line 1\u001b[0m\n\u001b[1;32m----> 1\u001b[0m \u001b[43mlattice\u001b[49m\u001b[43m[\u001b[49m\u001b[38;5;241;43m0\u001b[39;49m\u001b[43m]\u001b[49m\u001b[43m[\u001b[49m\u001b[38;5;124;43m\"\u001b[39;49m\u001b[38;5;124;43meta\u001b[39;49m\u001b[38;5;124;43m\"\u001b[39;49m\u001b[43m]\u001b[49m\u001b[38;5;241;43m.\u001b[39;49m\u001b[43mf\u001b[49m\n",
      "\u001b[1;31mAttributeError\u001b[0m: 'float' object has no attribute 'f'"
     ]
    }
   ],
   "source": [
    "lattice[0][\"eta\"].f"
   ]
  },
  {
   "cell_type": "code",
   "execution_count": null,
   "id": "4fadeefc",
   "metadata": {},
   "outputs": [
    {
     "data": {
      "text/plain": [
       "[-0.40165395453212227, None, None, None]"
      ]
     },
     "execution_count": 11,
     "metadata": {},
     "output_type": "execute_result"
    }
   ],
   "source": [
    "lattice[3][\"eta\"].f"
   ]
  },
  {
   "cell_type": "code",
   "execution_count": null,
   "id": "bf4e4ab5",
   "metadata": {},
   "outputs": [],
   "source": [
    "import glob\n",
    "files = glob.glob(\"./hmc_python/*\")"
   ]
  },
  {
   "cell_type": "code",
   "execution_count": null,
   "id": "a6f06cdb",
   "metadata": {},
   "outputs": [
    {
     "data": {
      "text/plain": [
       "['.idea',\n",
       " '.ipynb_checkpoints',\n",
       " 'lparam.py',\n",
       " 'main.py',\n",
       " 'sigma1.acl',\n",
       " 'sigma1.in',\n",
       " 'sigma1.lat',\n",
       " 'sigma1.out',\n",
       " 'sigma1.prop',\n",
       " 'sigma1.propacl',\n",
       " 'util.py',\n",
       " '__init__.py',\n",
       " '__pycache__']"
      ]
     },
     "execution_count": 13,
     "metadata": {},
     "output_type": "execute_result"
    }
   ],
   "source": [
    "os.listdir(\"C:/Users/cdipt/Documents/GitHub/Advance-Computational-Physics/hmc_python/\")"
   ]
  },
  {
   "cell_type": "code",
   "execution_count": null,
   "id": "d57ab71d",
   "metadata": {},
   "outputs": [],
   "source": [
    "\n",
    "# randomize() # Not defined here but present in the original code\n",
    "\n",
    "# filelat(pin) # Getting converted will be merged later\n",
    "\n",
    "av_sigma = 0.0  # grand average of <sigma>\n",
    "av_psi = 0.0  # grand average of <psi_bar-psi>\n",
    "t_ex_sigma = 0.0  # grand sum over all <sigma>s\n",
    "seg_av_sigma = 0.0  # segment-average of <sigma> for tau_int\n",
    "seg_av_prop = 0.0  # segment-average of <propagator[m]>\n",
    "\n",
    "no_hmc = 0  # # of hmc steps calculated\n",
    "no_acc = 0  # # of accepted configurations\n",
    "counter = 0  # counter used in hmc.c\n",
    "meas = 0  # meas is a switch for measurements\n",
    "no_auto = 0  # no_auto is the index for autocoreln. measurement\n",
    "no_prop = 0  # no_prop is the index for Prop-Acl calculation\n",
    "\n",
    "a = 0  # a index used in tau_int measurements\n",
    "ac = 0  # ac configuration index to ac_prop[ac]\n",
    "acc = 0  # acc index used in G_temp[][acc] i.e. # of data point and also used as index in ac_store\n",
    "bin = 0  # bin is index to bin_average\n",
    "g = 0  # g configuration index to garbage i.e. garbage[g]\n",
    "k = 0  # k configuration index to store i.e. store[k]\n",
    "j = 0  # j configuration index to store[j], during measurements"
   ]
  },
  {
   "cell_type": "code",
   "execution_count": null,
   "id": "37b14099",
   "metadata": {},
   "outputs": [
    {
     "ename": "TypeError",
     "evalue": "'NoneType' object cannot be interpreted as an integer",
     "output_type": "error",
     "traceback": [
      "\u001b[1;31m---------------------------------------------------------------------------\u001b[0m",
      "\u001b[1;31mTypeError\u001b[0m                                 Traceback (most recent call last)",
      "Cell \u001b[1;32mIn[8], line 2\u001b[0m\n\u001b[0;32m      1\u001b[0m \u001b[38;5;66;03m#  GARBAGE LOOPS AND AUTOCORELATION MEASUREMENTS LOOPS\u001b[39;00m\n\u001b[1;32m----> 2\u001b[0m \u001b[38;5;28;01mfor\u001b[39;00m n \u001b[38;5;129;01min\u001b[39;00m \u001b[38;5;28;43mrange\u001b[39;49m\u001b[43m(\u001b[49m\u001b[43mhmc_it\u001b[49m\u001b[43m)\u001b[49m:\n\u001b[0;32m      3\u001b[0m     no_acc \u001b[38;5;241m+\u001b[39m\u001b[38;5;241m=\u001b[39m \u001b[38;5;241m1\u001b[39m\n\u001b[0;32m      4\u001b[0m     no_hmc \u001b[38;5;241m+\u001b[39m\u001b[38;5;241m=\u001b[39m hmc()\n",
      "\u001b[1;31mTypeError\u001b[0m: 'NoneType' object cannot be interpreted as an integer"
     ]
    }
   ],
   "source": [
    "#  GARBAGE LOOPS AND AUTOCORELATION MEASUREMENTS LOOPS\n",
    "for n in range(hmc_it):\n",
    "    no_acc += 1\n",
    "    no_hmc += hmc()\n",
    "\n",
    "    if no_acc<=no_garbage:\n",
    "        garbage[g] = average_sigma()\n",
    "        g += 1\n",
    "        bin +=1\n",
    "        if bin%bin_length == 0:\n",
    "            for m in range((g-bin),g):\n",
    "                bin_av[k] +=garbage[m]/bin_length\n",
    "            k += 1\n",
    "            bin = 0\n",
    "\n",
    "    if no_acc>no_garbage:\n",
    "        ac_store[acc] = average_sigma()\n",
    "        acc += 1\n",
    "        no_auto += 1\n",
    "\n",
    "        if no_auto%seg_length == 0:\n",
    "            lbd = acc - no_auto\n",
    "            for m in range(lbd,acc):\n",
    "                seg_av_sigma += ac_store[m]/seg_length\n",
    "            autocorel(seg_av_sigma,lbd,a)\n",
    "            a += 1\n",
    "            seg_av_sigma = 0\n",
    "            no_auto = 0\n",
    "\n",
    "    for i in range(0,volume):\n",
    "        con[i] = conf[i]\n",
    "    for i in range(0,volume):\n",
    "        conf[i] = lattice[i].sigma\n",
    "\n",
    "acc_rate = no_acc/no_hmc\n",
    "\n",
    "for n in range(0, MAXT_cut):\n",
    "    ptacl.write(f\"{n+1}\")\n",
    "    for u in range(NOT_cut):\n",
    "        d_t_int = 0\n",
    "        av_t_int = 0\n",
    "\n",
    "        for a in range(no_a_seg):\n",
    "            av_t_int += T_int[u][n][a]/no_a_seg\n",
    "        for a in range(no_a_seg):\n",
    "            d_t_int += (T_int[u][n][a] -00 av_t_int)**2\n",
    "\n",
    "        d_t_int = math.sqrt(d_t_int/(no_a_seg-1))\n",
    "\n",
    "        ptacl.write(f\"\\t{av_t_int}\\t{d_t_int}\")\n",
    "    ptacl.write(\"\\n\")\n",
    "\n",
    "print(f\"\\n\\n no_acc_traj={no_acc} \\t no_hmc={no_hmc} \\t acc_rate={acc_rate}\")\n",
    "\n",
    "for k in range(0,no_bin):\n",
    "    ptout.write(f\"{k+1}\\t{bin_av[k]}\\n\")\n",
    "for i in range(0,volume):\n",
    "    ptlat.write(f\"{lattice[i].sigma}\\n\")\n"
   ]
  },
  {
   "cell_type": "code",
   "execution_count": null,
   "id": "e5692fcc",
   "metadata": {},
   "outputs": [],
   "source": [
    "if sw_flag == 0:\n",
    "    #  GARBAGE LOOPS AND AUTOCORELATION MEASUREMENTS LOOPS\n",
    "    for n in range(hmc_it):\n",
    "        no_acc += 1\n",
    "        no_hmc += hmc()\n",
    "\n",
    "        if no_acc<=no_garbage:\n",
    "            garbage[g] = average_sigma()\n",
    "            g += 1\n",
    "            bin +=1\n",
    "            if bin%bin_length == 0:\n",
    "                for m in range((g-bin),g):\n",
    "                    bin_av[k] +=garbage[m]/bin_length\n",
    "                k += 1\n",
    "                bin = 0\n",
    "\n",
    "        if no_acc>no_garbage:\n",
    "            ac_store[acc] = average_sigma()\n",
    "            acc += 1\n",
    "            no_auto += 1\n",
    "\n",
    "            if no_auto%seg_length == 0:\n",
    "                lbd = acc - no_auto\n",
    "                for m in range(lbd,acc):\n",
    "                    seg_av_sigma += ac_store[m]/seg_length\n",
    "                autocorel(seg_av_sigma,lbd,a)\n",
    "                a += 1\n",
    "                seg_av_sigma = 0\n",
    "                no_auto = 0\n",
    "\n",
    "        for i in range(0,volume):\n",
    "            con[i] = conf[i]\n",
    "        for i in range(0,volume):\n",
    "            conf[i] = lattice[i].sigma\n",
    "\n",
    "    acc_rate = no_acc/no_hmc\n",
    "\n",
    "    for n in range(0, MAXT_cut):\n",
    "        ptacl.write(f\"{n+1}\")\n",
    "        for u in range(NOT_cut):\n",
    "            d_t_int = 0\n",
    "            av_t_int = 0\n",
    "\n",
    "            for a in range(no_a_seg):\n",
    "                av_t_int += T_int[u][n][a]/no_a_seg\n",
    "            for a in range(no_a_seg):\n",
    "                d_t_int += (T_int[u][n][a] - av_t_int)**2\n",
    "\n",
    "            d_t_int = math.sqrt(d_t_int/(no_a_seg-1))\n",
    "\n",
    "            ptacl.write(f\"\\t{av_t_int}\\t{d_t_int}\")\n",
    "        ptacl.write(\"\\n\")\n",
    "\n",
    "    print(f\"\\n\\n no_acc_traj={no_acc} \\t no_hmc={no_hmc} \\t acc_rate={acc_rate}\")\n",
    "\n",
    "    for k in range(0,no_bin):\n",
    "        ptout.write(f\"{k+1}\\t{bin_av[k]}\\n\")\n",
    "    for i in range(0,volume):\n",
    "        ptlat.write(f\"{lattice[i].sigma}\\n\")\n",
    "\n",
    "\n",
    "\n",
    "if sw_flag == 1:\n",
    "    for n in range(meas_loop):\n",
    "        no_acc += 1\n",
    "        no_hmc += hmc()\n",
    "\n",
    "        meas = meas + 1\n",
    "        no_prop = no_prop + 1\n",
    "\n",
    "        if meas%meas_length == 0:\n",
    "            store[j] += average_sigma()\n",
    "            t_ex_sigma += store[j]\n",
    "            j += 1\n",
    "\n",
    "        if meas%prop_length == 0:\n",
    "            pass\n",
    "\n",
    "    av_sigma = t_ex_sigma / no_meas\n",
    "    sqdev = 0\n",
    "    for k in range(no_meas):\n",
    "        sqdev += (store[k]-av_sigma)**2\n",
    "    d_av_sigma = sqrt(sqdev/(no_meas-1))\n",
    "\n",
    "    acc_rate = no_acc/no_hmc\n",
    "\n",
    "    print(f\"\\n\\n\\ no_acc_traj = {no_acc} \\t no_hmc = {no_hmc} \\t acc_rate = {acc_rate} \\n\\n\")\n",
    "    print(f\"av_sigma={av_sigma} \\t av_psi{av_psi}\\n\\n\")\n",
    "    print(f\"d_av_sigma={d_av_sigma} \\t d_av_psi{d_av_psi}\\n\\n\")\n",
    "\n",
    "    for i in range(0,volume):\n",
    "        ptlat.write(f\"{lattice[i].sigma}\\n\")\n",
    "\n",
    "else:\n",
    "    print(\"KILL YOURSELF, PLEASE !!!\")\n"
   ]
  },
  {
   "cell_type": "code",
   "execution_count": null,
   "id": "49563ff2",
   "metadata": {},
   "outputs": [
    {
     "data": {
      "text/plain": [
       "1.0505373149110522"
      ]
     },
     "execution_count": 4,
     "metadata": {},
     "output_type": "execute_result"
    }
   ],
   "source": [
    "np.random.randn()"
   ]
  },
  {
   "cell_type": "code",
   "execution_count": null,
   "id": "958e92e6",
   "metadata": {},
   "outputs": [],
   "source": []
  },
  {
   "cell_type": "code",
   "execution_count": null,
   "id": "32cd16fc",
   "metadata": {},
   "outputs": [],
   "source": []
  },
  {
   "cell_type": "code",
   "execution_count": null,
   "id": "5e94d472",
   "metadata": {},
   "outputs": [],
   "source": []
  }
 ],
 "metadata": {
  "kernelspec": {
   "display_name": "Python 3 (ipykernel)",
   "language": "python",
   "name": "python3"
  },
  "language_info": {
   "codemirror_mode": {
    "name": "ipython",
    "version": 3
   },
   "file_extension": ".py",
   "mimetype": "text/x-python",
   "name": "python",
   "nbconvert_exporter": "python",
   "pygments_lexer": "ipython3",
   "version": "3.11.4"
  }
 },
 "nbformat": 4,
 "nbformat_minor": 5
}
