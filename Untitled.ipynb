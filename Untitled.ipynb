{
 "cells": [
  {
   "cell_type": "code",
   "execution_count": 1,
   "id": "2a767831",
   "metadata": {},
   "outputs": [
    {
     "name": "stderr",
     "output_type": "stream",
     "text": [
      "C:\\Users\\cdipt\\anaconda3\\lib\\site-packages\\numpy\\_distributor_init.py:30: UserWarning: loaded more than 1 DLL from .libs:\n",
      "C:\\Users\\cdipt\\anaconda3\\lib\\site-packages\\numpy\\.libs\\libopenblas.FB5AE2TYXYH2IJRDKGDGQ3XBKLKTF43H.gfortran-win_amd64.dll\n",
      "C:\\Users\\cdipt\\anaconda3\\lib\\site-packages\\numpy\\.libs\\libopenblas.WCDJNK7YVMPZQ2ME2ZZHJJRJ3JIKNDB7.gfortran-win_amd64.dll\n",
      "C:\\Users\\cdipt\\anaconda3\\lib\\site-packages\\numpy\\.libs\\libopenblas64__v0.3.21-gcc_10_3_0.dll\n",
      "  warnings.warn(\"loaded more than 1 DLL from .libs:\"\n"
     ]
    }
   ],
   "source": [
    "import sys\n",
    "sys.path.append(\"./hmc_python/\")\n",
    "import hmc_python\n",
    "from hmc_python.util_fast import *\n",
    "from hmc_python.lparam import *\n",
    "from tqdm.auto import tqdm"
   ]
  },
  {
   "cell_type": "code",
   "execution_count": null,
   "id": "e4cc6350",
   "metadata": {},
   "outputs": [
    {
     "name": "stdout",
     "output_type": "stream",
     "text": [
      "GN model with HMC algorithm\n",
      "\n",
      "Alpha machine, Version 1\n",
      "\n",
      "type 0 for no prompts, 1 for prompts or 2 for list of prompts\n",
      "\n",
      "Enter the prompt type (only 1 is supported for now):1\n",
      "Lattice dimensions = 16 16\n",
      "\n",
      "Switch_Flag = 0\n",
      "\n",
      "No of garbage loops = 100\n",
      "bin_length = 5\n",
      "# of hmc iterations = 1100\n",
      "meas_length = 5\n",
      "prop_length = 5\n",
      "seg_length = 100\n",
      "no of md steps = 25, step size = 0.04\n",
      "maximum no. of conj. grad. iterations = 5000,2000\n",
      "residues for conjugate grad = 1e-07,1e-05\n",
      " COLDLAT: Cold initial config. of `sigma' field\n"
     ]
    },
    {
     "data": {
      "application/vnd.jupyter.widget-view+json": {
       "model_id": "fd8e124a01994a87ac3151128a020812",
       "version_major": 2,
       "version_minor": 0
      },
      "text/plain": [
       "  0%|          | 0/24 [00:00<?, ?it/s]"
      ]
     },
     "metadata": {},
     "output_type": "display_data"
    },
    {
     "name": "stdout",
     "output_type": "stream",
     "text": [
      "The new hamil is 270.09820405621787\n"
     ]
    },
    {
     "data": {
      "application/vnd.jupyter.widget-view+json": {
       "model_id": "613a0ff5ca2c4cfface81e4f77ced3ed",
       "version_major": 2,
       "version_minor": 0
      },
      "text/plain": [
       "  0%|          | 0/24 [00:00<?, ?it/s]"
      ]
     },
     "metadata": {},
     "output_type": "display_data"
    },
    {
     "name": "stdout",
     "output_type": "stream",
     "text": [
      "The new hamil is 255.58211102316514\n"
     ]
    },
    {
     "data": {
      "application/vnd.jupyter.widget-view+json": {
       "model_id": "c7cc1f380deb492c937223105dfef30d",
       "version_major": 2,
       "version_minor": 0
      },
      "text/plain": [
       "  0%|          | 0/24 [00:00<?, ?it/s]"
      ]
     },
     "metadata": {},
     "output_type": "display_data"
    },
    {
     "name": "stdout",
     "output_type": "stream",
     "text": [
      "The new hamil is 266.59747786819906\n"
     ]
    },
    {
     "data": {
      "application/vnd.jupyter.widget-view+json": {
       "model_id": "e41f76d814d84cd2b7e5e3c2a59219d1",
       "version_major": 2,
       "version_minor": 0
      },
      "text/plain": [
       "  0%|          | 0/24 [00:00<?, ?it/s]"
      ]
     },
     "metadata": {},
     "output_type": "display_data"
    },
    {
     "name": "stdout",
     "output_type": "stream",
     "text": [
      "The new hamil is 229.24168019955061\n"
     ]
    },
    {
     "data": {
      "application/vnd.jupyter.widget-view+json": {
       "model_id": "923facc7366e403596ce66d0dd60e829",
       "version_major": 2,
       "version_minor": 0
      },
      "text/plain": [
       "  0%|          | 0/24 [00:00<?, ?it/s]"
      ]
     },
     "metadata": {},
     "output_type": "display_data"
    },
    {
     "name": "stdout",
     "output_type": "stream",
     "text": [
      "The new hamil is 199.49506921899712\n"
     ]
    },
    {
     "data": {
      "application/vnd.jupyter.widget-view+json": {
       "model_id": "9caa9196f30342fabf9eb89a7231e971",
       "version_major": 2,
       "version_minor": 0
      },
      "text/plain": [
       "  0%|          | 0/24 [00:00<?, ?it/s]"
      ]
     },
     "metadata": {},
     "output_type": "display_data"
    },
    {
     "name": "stdout",
     "output_type": "stream",
     "text": [
      "The new hamil is 234.42525303993236\n"
     ]
    },
    {
     "data": {
      "application/vnd.jupyter.widget-view+json": {
       "model_id": "ad9264d156ad4c68b787cc9359d4ade2",
       "version_major": 2,
       "version_minor": 0
      },
      "text/plain": [
       "  0%|          | 0/24 [00:00<?, ?it/s]"
      ]
     },
     "metadata": {},
     "output_type": "display_data"
    },
    {
     "name": "stdout",
     "output_type": "stream",
     "text": [
      "The new hamil is 230.68080007743293\n"
     ]
    },
    {
     "data": {
      "application/vnd.jupyter.widget-view+json": {
       "model_id": "7e284926170644cc82d82dc526310871",
       "version_major": 2,
       "version_minor": 0
      },
      "text/plain": [
       "  0%|          | 0/24 [00:00<?, ?it/s]"
      ]
     },
     "metadata": {},
     "output_type": "display_data"
    },
    {
     "name": "stdout",
     "output_type": "stream",
     "text": [
      "The new hamil is 272.91127003958735\n"
     ]
    },
    {
     "data": {
      "application/vnd.jupyter.widget-view+json": {
       "model_id": "d38687c70ae94d43b97447f0c76097dd",
       "version_major": 2,
       "version_minor": 0
      },
      "text/plain": [
       "  0%|          | 0/24 [00:00<?, ?it/s]"
      ]
     },
     "metadata": {},
     "output_type": "display_data"
    },
    {
     "name": "stdout",
     "output_type": "stream",
     "text": [
      "The new hamil is 229.98065250751068\n"
     ]
    },
    {
     "data": {
      "application/vnd.jupyter.widget-view+json": {
       "model_id": "a29e43b47bc24b499ff344e9f6d607a4",
       "version_major": 2,
       "version_minor": 0
      },
      "text/plain": [
       "  0%|          | 0/24 [00:00<?, ?it/s]"
      ]
     },
     "metadata": {},
     "output_type": "display_data"
    },
    {
     "name": "stdout",
     "output_type": "stream",
     "text": [
      "The new hamil is 250.2016039634245\n"
     ]
    },
    {
     "data": {
      "application/vnd.jupyter.widget-view+json": {
       "model_id": "de0ebd79bd0f49c1b17bdc3ffa5c9250",
       "version_major": 2,
       "version_minor": 0
      },
      "text/plain": [
       "  0%|          | 0/24 [00:00<?, ?it/s]"
      ]
     },
     "metadata": {},
     "output_type": "display_data"
    },
    {
     "name": "stdout",
     "output_type": "stream",
     "text": [
      "The new hamil is 271.69370273495355\n"
     ]
    },
    {
     "data": {
      "application/vnd.jupyter.widget-view+json": {
       "model_id": "6e51b71f50f949449934aedf00888bc6",
       "version_major": 2,
       "version_minor": 0
      },
      "text/plain": [
       "  0%|          | 0/24 [00:00<?, ?it/s]"
      ]
     },
     "metadata": {},
     "output_type": "display_data"
    },
    {
     "name": "stdout",
     "output_type": "stream",
     "text": [
      "The new hamil is 261.6694533142657\n"
     ]
    },
    {
     "data": {
      "application/vnd.jupyter.widget-view+json": {
       "model_id": "86463f81b681433a8bf778fda9624a65",
       "version_major": 2,
       "version_minor": 0
      },
      "text/plain": [
       "  0%|          | 0/24 [00:00<?, ?it/s]"
      ]
     },
     "metadata": {},
     "output_type": "display_data"
    },
    {
     "name": "stdout",
     "output_type": "stream",
     "text": [
      "The new hamil is 250.94762578704058\n"
     ]
    },
    {
     "data": {
      "application/vnd.jupyter.widget-view+json": {
       "model_id": "a55700add74542dc9c6ada4549435329",
       "version_major": 2,
       "version_minor": 0
      },
      "text/plain": [
       "  0%|          | 0/24 [00:00<?, ?it/s]"
      ]
     },
     "metadata": {},
     "output_type": "display_data"
    },
    {
     "name": "stdout",
     "output_type": "stream",
     "text": [
      "The new hamil is 298.9455900037492\n"
     ]
    },
    {
     "data": {
      "application/vnd.jupyter.widget-view+json": {
       "model_id": "0e2fca7eeae74a68b5b8065a1a9c7156",
       "version_major": 2,
       "version_minor": 0
      },
      "text/plain": [
       "  0%|          | 0/24 [00:00<?, ?it/s]"
      ]
     },
     "metadata": {},
     "output_type": "display_data"
    },
    {
     "name": "stdout",
     "output_type": "stream",
     "text": [
      "The new hamil is 224.76440104375274\n"
     ]
    },
    {
     "data": {
      "application/vnd.jupyter.widget-view+json": {
       "model_id": "00e40f0f123e474eb88dbe0ef1ef9f2d",
       "version_major": 2,
       "version_minor": 0
      },
      "text/plain": [
       "  0%|          | 0/24 [00:00<?, ?it/s]"
      ]
     },
     "metadata": {},
     "output_type": "display_data"
    },
    {
     "name": "stdout",
     "output_type": "stream",
     "text": [
      "The new hamil is 239.95071613186462\n"
     ]
    },
    {
     "data": {
      "application/vnd.jupyter.widget-view+json": {
       "model_id": "2f90abfb247e40339be86bc8c4c27d28",
       "version_major": 2,
       "version_minor": 0
      },
      "text/plain": [
       "  0%|          | 0/24 [00:00<?, ?it/s]"
      ]
     },
     "metadata": {},
     "output_type": "display_data"
    },
    {
     "name": "stdout",
     "output_type": "stream",
     "text": [
      "The new hamil is 272.64527726170286\n"
     ]
    },
    {
     "data": {
      "application/vnd.jupyter.widget-view+json": {
       "model_id": "544ea88d75d14125a849a5d874102987",
       "version_major": 2,
       "version_minor": 0
      },
      "text/plain": [
       "  0%|          | 0/24 [00:00<?, ?it/s]"
      ]
     },
     "metadata": {},
     "output_type": "display_data"
    },
    {
     "name": "stdout",
     "output_type": "stream",
     "text": [
      "The new hamil is 232.17039319048556\n"
     ]
    },
    {
     "data": {
      "application/vnd.jupyter.widget-view+json": {
       "model_id": "489d19a93c5f4cd2972e7ea5e0c5ea72",
       "version_major": 2,
       "version_minor": 0
      },
      "text/plain": [
       "  0%|          | 0/24 [00:00<?, ?it/s]"
      ]
     },
     "metadata": {},
     "output_type": "display_data"
    },
    {
     "name": "stdout",
     "output_type": "stream",
     "text": [
      "The new hamil is 219.07345474901115\n"
     ]
    },
    {
     "data": {
      "application/vnd.jupyter.widget-view+json": {
       "model_id": "4a1ac59964cf42f0ab8359ca303a68bd",
       "version_major": 2,
       "version_minor": 0
      },
      "text/plain": [
       "  0%|          | 0/24 [00:00<?, ?it/s]"
      ]
     },
     "metadata": {},
     "output_type": "display_data"
    },
    {
     "name": "stdout",
     "output_type": "stream",
     "text": [
      "The new hamil is 257.43019070735284\n"
     ]
    },
    {
     "data": {
      "application/vnd.jupyter.widget-view+json": {
       "model_id": "c51d39dda0354206bf53466978c80cda",
       "version_major": 2,
       "version_minor": 0
      },
      "text/plain": [
       "  0%|          | 0/24 [00:00<?, ?it/s]"
      ]
     },
     "metadata": {},
     "output_type": "display_data"
    },
    {
     "name": "stdout",
     "output_type": "stream",
     "text": [
      "The new hamil is 263.8671095860532\n"
     ]
    },
    {
     "data": {
      "application/vnd.jupyter.widget-view+json": {
       "model_id": "0e9e89b6cbeb449485fd1af8d7ecdc0e",
       "version_major": 2,
       "version_minor": 0
      },
      "text/plain": [
       "  0%|          | 0/24 [00:00<?, ?it/s]"
      ]
     },
     "metadata": {},
     "output_type": "display_data"
    },
    {
     "name": "stdout",
     "output_type": "stream",
     "text": [
      "The new hamil is 247.75625892004874\n"
     ]
    },
    {
     "data": {
      "application/vnd.jupyter.widget-view+json": {
       "model_id": "0f31a9d4aed84d059c2da6394d665b9c",
       "version_major": 2,
       "version_minor": 0
      },
      "text/plain": [
       "  0%|          | 0/24 [00:00<?, ?it/s]"
      ]
     },
     "metadata": {},
     "output_type": "display_data"
    },
    {
     "name": "stdout",
     "output_type": "stream",
     "text": [
      "The new hamil is 271.7249405723319\n"
     ]
    },
    {
     "data": {
      "application/vnd.jupyter.widget-view+json": {
       "model_id": "6d07a3c7dfdd4978bbfe773b2687a070",
       "version_major": 2,
       "version_minor": 0
      },
      "text/plain": [
       "  0%|          | 0/24 [00:00<?, ?it/s]"
      ]
     },
     "metadata": {},
     "output_type": "display_data"
    },
    {
     "name": "stdout",
     "output_type": "stream",
     "text": [
      "The new hamil is 234.4976635472733\n"
     ]
    },
    {
     "data": {
      "application/vnd.jupyter.widget-view+json": {
       "model_id": "5ee61500293d40a48cda292672caebe3",
       "version_major": 2,
       "version_minor": 0
      },
      "text/plain": [
       "  0%|          | 0/24 [00:00<?, ?it/s]"
      ]
     },
     "metadata": {},
     "output_type": "display_data"
    },
    {
     "name": "stdout",
     "output_type": "stream",
     "text": [
      "The new hamil is 240.90519315505063\n"
     ]
    },
    {
     "data": {
      "application/vnd.jupyter.widget-view+json": {
       "model_id": "21e8d715f25f457ab0ab055b519febe2",
       "version_major": 2,
       "version_minor": 0
      },
      "text/plain": [
       "  0%|          | 0/24 [00:00<?, ?it/s]"
      ]
     },
     "metadata": {},
     "output_type": "display_data"
    },
    {
     "name": "stdout",
     "output_type": "stream",
     "text": [
      "The new hamil is 270.78050317217355\n"
     ]
    },
    {
     "data": {
      "application/vnd.jupyter.widget-view+json": {
       "model_id": "044f54731dac4f6eb10226a1e5b9671f",
       "version_major": 2,
       "version_minor": 0
      },
      "text/plain": [
       "  0%|          | 0/24 [00:00<?, ?it/s]"
      ]
     },
     "metadata": {},
     "output_type": "display_data"
    },
    {
     "name": "stdout",
     "output_type": "stream",
     "text": [
      "The new hamil is 242.44771506687715\n"
     ]
    },
    {
     "data": {
      "application/vnd.jupyter.widget-view+json": {
       "model_id": "41d09ce3f7bc47a8922fd0e2e1bc9752",
       "version_major": 2,
       "version_minor": 0
      },
      "text/plain": [
       "  0%|          | 0/24 [00:00<?, ?it/s]"
      ]
     },
     "metadata": {},
     "output_type": "display_data"
    },
    {
     "name": "stdout",
     "output_type": "stream",
     "text": [
      "The new hamil is 272.40429194934217\n"
     ]
    },
    {
     "data": {
      "application/vnd.jupyter.widget-view+json": {
       "model_id": "13dca04be2314cfe88760d2292a29df8",
       "version_major": 2,
       "version_minor": 0
      },
      "text/plain": [
       "  0%|          | 0/24 [00:00<?, ?it/s]"
      ]
     },
     "metadata": {},
     "output_type": "display_data"
    },
    {
     "name": "stdout",
     "output_type": "stream",
     "text": [
      "The new hamil is 228.92044508967507\n"
     ]
    },
    {
     "data": {
      "application/vnd.jupyter.widget-view+json": {
       "model_id": "e05f1b78c7064e6babefe2c7cf658e4f",
       "version_major": 2,
       "version_minor": 0
      },
      "text/plain": [
       "  0%|          | 0/24 [00:00<?, ?it/s]"
      ]
     },
     "metadata": {},
     "output_type": "display_data"
    },
    {
     "name": "stdout",
     "output_type": "stream",
     "text": [
      "The new hamil is 232.6397975192143\n"
     ]
    },
    {
     "data": {
      "application/vnd.jupyter.widget-view+json": {
       "model_id": "4db632cc52a144c8a0641be09ae23ca4",
       "version_major": 2,
       "version_minor": 0
      },
      "text/plain": [
       "  0%|          | 0/24 [00:00<?, ?it/s]"
      ]
     },
     "metadata": {},
     "output_type": "display_data"
    },
    {
     "name": "stdout",
     "output_type": "stream",
     "text": [
      "The new hamil is 225.5150558822348\n"
     ]
    },
    {
     "data": {
      "application/vnd.jupyter.widget-view+json": {
       "model_id": "23c258bd6d8047d3b632929c80b29bb8",
       "version_major": 2,
       "version_minor": 0
      },
      "text/plain": [
       "  0%|          | 0/24 [00:00<?, ?it/s]"
      ]
     },
     "metadata": {},
     "output_type": "display_data"
    },
    {
     "name": "stdout",
     "output_type": "stream",
     "text": [
      "The new hamil is 265.6459990502109\n"
     ]
    },
    {
     "data": {
      "application/vnd.jupyter.widget-view+json": {
       "model_id": "8596534b39e64856a8c1c7d52a5d96b0",
       "version_major": 2,
       "version_minor": 0
      },
      "text/plain": [
       "  0%|          | 0/24 [00:00<?, ?it/s]"
      ]
     },
     "metadata": {},
     "output_type": "display_data"
    },
    {
     "name": "stdout",
     "output_type": "stream",
     "text": [
      "The new hamil is 271.7987488106305\n"
     ]
    },
    {
     "data": {
      "application/vnd.jupyter.widget-view+json": {
       "model_id": "a14ac2a4ffd9431288a58cc56e6686fd",
       "version_major": 2,
       "version_minor": 0
      },
      "text/plain": [
       "  0%|          | 0/24 [00:00<?, ?it/s]"
      ]
     },
     "metadata": {},
     "output_type": "display_data"
    },
    {
     "name": "stdout",
     "output_type": "stream",
     "text": [
      "The new hamil is 271.04301988804906\n"
     ]
    },
    {
     "data": {
      "application/vnd.jupyter.widget-view+json": {
       "model_id": "2a1d81d0ff6e4ce38fe27a766fc1ddc2",
       "version_major": 2,
       "version_minor": 0
      },
      "text/plain": [
       "  0%|          | 0/24 [00:00<?, ?it/s]"
      ]
     },
     "metadata": {},
     "output_type": "display_data"
    },
    {
     "name": "stdout",
     "output_type": "stream",
     "text": [
      "The new hamil is 221.97332612287866\n"
     ]
    },
    {
     "data": {
      "application/vnd.jupyter.widget-view+json": {
       "model_id": "cd489a0d12134b60a34ce317c72b2fa7",
       "version_major": 2,
       "version_minor": 0
      },
      "text/plain": [
       "  0%|          | 0/24 [00:00<?, ?it/s]"
      ]
     },
     "metadata": {},
     "output_type": "display_data"
    },
    {
     "name": "stdout",
     "output_type": "stream",
     "text": [
      "The new hamil is 205.11170044864298\n"
     ]
    },
    {
     "data": {
      "application/vnd.jupyter.widget-view+json": {
       "model_id": "034155b5f8e448b3b95e6154ec7d1bfd",
       "version_major": 2,
       "version_minor": 0
      },
      "text/plain": [
       "  0%|          | 0/24 [00:00<?, ?it/s]"
      ]
     },
     "metadata": {},
     "output_type": "display_data"
    },
    {
     "name": "stdout",
     "output_type": "stream",
     "text": [
      "The new hamil is 247.5217223872345\n"
     ]
    },
    {
     "data": {
      "application/vnd.jupyter.widget-view+json": {
       "model_id": "548a0813d6f7403cb4afb9a60cec043b",
       "version_major": 2,
       "version_minor": 0
      },
      "text/plain": [
       "  0%|          | 0/24 [00:00<?, ?it/s]"
      ]
     },
     "metadata": {},
     "output_type": "display_data"
    },
    {
     "name": "stdout",
     "output_type": "stream",
     "text": [
      "The new hamil is 284.4820038534215\n"
     ]
    },
    {
     "data": {
      "application/vnd.jupyter.widget-view+json": {
       "model_id": "90c9bc016bba45c7a9d8949821e9e33f",
       "version_major": 2,
       "version_minor": 0
      },
      "text/plain": [
       "  0%|          | 0/24 [00:00<?, ?it/s]"
      ]
     },
     "metadata": {},
     "output_type": "display_data"
    },
    {
     "name": "stdout",
     "output_type": "stream",
     "text": [
      "The new hamil is 212.6102797322899\n"
     ]
    },
    {
     "data": {
      "application/vnd.jupyter.widget-view+json": {
       "model_id": "e218b8aa5f3c4ab4b31c630fb871dffd",
       "version_major": 2,
       "version_minor": 0
      },
      "text/plain": [
       "  0%|          | 0/24 [00:00<?, ?it/s]"
      ]
     },
     "metadata": {},
     "output_type": "display_data"
    },
    {
     "name": "stdout",
     "output_type": "stream",
     "text": [
      "The new hamil is 226.50698813764856\n"
     ]
    },
    {
     "data": {
      "application/vnd.jupyter.widget-view+json": {
       "model_id": "775720a29a764fe58bc19fdd240cb762",
       "version_major": 2,
       "version_minor": 0
      },
      "text/plain": [
       "  0%|          | 0/24 [00:00<?, ?it/s]"
      ]
     },
     "metadata": {},
     "output_type": "display_data"
    },
    {
     "name": "stdout",
     "output_type": "stream",
     "text": [
      "The new hamil is 239.28828069380194\n"
     ]
    },
    {
     "data": {
      "application/vnd.jupyter.widget-view+json": {
       "model_id": "3c462195549a4fd2b130a5104fac7a96",
       "version_major": 2,
       "version_minor": 0
      },
      "text/plain": [
       "  0%|          | 0/24 [00:00<?, ?it/s]"
      ]
     },
     "metadata": {},
     "output_type": "display_data"
    },
    {
     "name": "stdout",
     "output_type": "stream",
     "text": [
      "The new hamil is 247.00485332979363\n"
     ]
    },
    {
     "data": {
      "application/vnd.jupyter.widget-view+json": {
       "model_id": "c43e74a7bac9420180e2abb26c2bb2ca",
       "version_major": 2,
       "version_minor": 0
      },
      "text/plain": [
       "  0%|          | 0/24 [00:00<?, ?it/s]"
      ]
     },
     "metadata": {},
     "output_type": "display_data"
    },
    {
     "name": "stdout",
     "output_type": "stream",
     "text": [
      "The new hamil is 242.2002470600121\n"
     ]
    },
    {
     "data": {
      "application/vnd.jupyter.widget-view+json": {
       "model_id": "ca9a314ba0274dbe8a3f3f65278af06c",
       "version_major": 2,
       "version_minor": 0
      },
      "text/plain": [
       "  0%|          | 0/24 [00:00<?, ?it/s]"
      ]
     },
     "metadata": {},
     "output_type": "display_data"
    },
    {
     "name": "stdout",
     "output_type": "stream",
     "text": [
      "The new hamil is 272.5449345817644\n"
     ]
    },
    {
     "data": {
      "application/vnd.jupyter.widget-view+json": {
       "model_id": "a07e09b6bd6a4175ab17ddd2bf1b2ca7",
       "version_major": 2,
       "version_minor": 0
      },
      "text/plain": [
       "  0%|          | 0/24 [00:00<?, ?it/s]"
      ]
     },
     "metadata": {},
     "output_type": "display_data"
    },
    {
     "name": "stdout",
     "output_type": "stream",
     "text": [
      "The new hamil is 260.5140114317729\n"
     ]
    },
    {
     "data": {
      "application/vnd.jupyter.widget-view+json": {
       "model_id": "e6173425b9d5406888b476712abe065b",
       "version_major": 2,
       "version_minor": 0
      },
      "text/plain": [
       "  0%|          | 0/24 [00:00<?, ?it/s]"
      ]
     },
     "metadata": {},
     "output_type": "display_data"
    },
    {
     "name": "stdout",
     "output_type": "stream",
     "text": [
      "The new hamil is 265.58980959232036\n"
     ]
    },
    {
     "data": {
      "application/vnd.jupyter.widget-view+json": {
       "model_id": "efa00ba231a246908a13a643675967e5",
       "version_major": 2,
       "version_minor": 0
      },
      "text/plain": [
       "  0%|          | 0/24 [00:00<?, ?it/s]"
      ]
     },
     "metadata": {},
     "output_type": "display_data"
    },
    {
     "name": "stdout",
     "output_type": "stream",
     "text": [
      "The new hamil is 279.9850247770991\n"
     ]
    },
    {
     "data": {
      "application/vnd.jupyter.widget-view+json": {
       "model_id": "46d8d4937b524e8bbde624e7e8bbd554",
       "version_major": 2,
       "version_minor": 0
      },
      "text/plain": [
       "  0%|          | 0/24 [00:00<?, ?it/s]"
      ]
     },
     "metadata": {},
     "output_type": "display_data"
    },
    {
     "name": "stdout",
     "output_type": "stream",
     "text": [
      "The new hamil is 244.09057140654488\n"
     ]
    },
    {
     "data": {
      "application/vnd.jupyter.widget-view+json": {
       "model_id": "a80dd0a5cb72449ea50e8da214095c22",
       "version_major": 2,
       "version_minor": 0
      },
      "text/plain": [
       "  0%|          | 0/24 [00:00<?, ?it/s]"
      ]
     },
     "metadata": {},
     "output_type": "display_data"
    },
    {
     "name": "stdout",
     "output_type": "stream",
     "text": [
      "The new hamil is 228.07586061499896\n"
     ]
    },
    {
     "data": {
      "application/vnd.jupyter.widget-view+json": {
       "model_id": "6d8b03c378884493b87e4e62806e6d0f",
       "version_major": 2,
       "version_minor": 0
      },
      "text/plain": [
       "  0%|          | 0/24 [00:00<?, ?it/s]"
      ]
     },
     "metadata": {},
     "output_type": "display_data"
    },
    {
     "name": "stdout",
     "output_type": "stream",
     "text": [
      "The new hamil is 258.94415184581845\n"
     ]
    },
    {
     "data": {
      "application/vnd.jupyter.widget-view+json": {
       "model_id": "3b227257de3e4c3b8243e117139ebb21",
       "version_major": 2,
       "version_minor": 0
      },
      "text/plain": [
       "  0%|          | 0/24 [00:00<?, ?it/s]"
      ]
     },
     "metadata": {},
     "output_type": "display_data"
    },
    {
     "name": "stdout",
     "output_type": "stream",
     "text": [
      "The new hamil is 232.67649034224448\n"
     ]
    },
    {
     "data": {
      "application/vnd.jupyter.widget-view+json": {
       "model_id": "d8dbdf17bdb14df59f29bb4d1676dfb7",
       "version_major": 2,
       "version_minor": 0
      },
      "text/plain": [
       "  0%|          | 0/24 [00:00<?, ?it/s]"
      ]
     },
     "metadata": {},
     "output_type": "display_data"
    },
    {
     "name": "stdout",
     "output_type": "stream",
     "text": [
      "The new hamil is 237.1376865220011\n"
     ]
    },
    {
     "data": {
      "application/vnd.jupyter.widget-view+json": {
       "model_id": "30a6c0cdede3480e94fe496b10b0b09e",
       "version_major": 2,
       "version_minor": 0
      },
      "text/plain": [
       "  0%|          | 0/24 [00:00<?, ?it/s]"
      ]
     },
     "metadata": {},
     "output_type": "display_data"
    },
    {
     "name": "stdout",
     "output_type": "stream",
     "text": [
      "The new hamil is 199.50444111104144\n"
     ]
    },
    {
     "data": {
      "application/vnd.jupyter.widget-view+json": {
       "model_id": "840a05a41dab48f9b55f77f132b5f386",
       "version_major": 2,
       "version_minor": 0
      },
      "text/plain": [
       "  0%|          | 0/24 [00:00<?, ?it/s]"
      ]
     },
     "metadata": {},
     "output_type": "display_data"
    },
    {
     "name": "stdout",
     "output_type": "stream",
     "text": [
      "The new hamil is 259.14269359357326\n"
     ]
    },
    {
     "data": {
      "application/vnd.jupyter.widget-view+json": {
       "model_id": "7649f0fca034489ba973b908b9825144",
       "version_major": 2,
       "version_minor": 0
      },
      "text/plain": [
       "  0%|          | 0/24 [00:00<?, ?it/s]"
      ]
     },
     "metadata": {},
     "output_type": "display_data"
    }
   ],
   "source": [
    "main()"
   ]
  },
  {
   "cell_type": "code",
   "execution_count": null,
   "id": "bca66ca4",
   "metadata": {},
   "outputs": [],
   "source": [
    "!pip install line_profiler\n",
    "%load_ext line_profiler\n",
    "\n",
    "\n",
    "%lprun -f piup piup(0)"
   ]
  },
  {
   "cell_type": "code",
   "execution_count": null,
   "id": "58d57b36",
   "metadata": {},
   "outputs": [],
   "source": [
    "a = np.array([[[1,2,3],[2,3,4]],[[4,5,6],[6,7,8]]])\n",
    "b[...] = a[...]"
   ]
  },
  {
   "cell_type": "code",
   "execution_count": null,
   "id": "7a28bf57",
   "metadata": {},
   "outputs": [],
   "source": [
    "s = list(i for i in range(int(1e3)))\n",
    "# s = np.arange(1,int(1e3))\n",
    "for i in tqdm(range(1000000)):\n",
    "#     np.sum(np.array(s))\n",
    "    sum(s)"
   ]
  },
  {
   "cell_type": "code",
   "execution_count": null,
   "id": "40814471",
   "metadata": {},
   "outputs": [],
   "source": [
    "a = np.array(list(None for i in range(10)))\n",
    "b = np.zeros((10))"
   ]
  },
  {
   "cell_type": "code",
   "execution_count": null,
   "id": "c81753cc",
   "metadata": {},
   "outputs": [],
   "source": [
    "a[0] = np.array([1,2])"
   ]
  },
  {
   "cell_type": "code",
   "execution_count": null,
   "id": "19859949",
   "metadata": {},
   "outputs": [],
   "source": [
    "b[0,0,0] = -1000"
   ]
  },
  {
   "cell_type": "code",
   "execution_count": null,
   "id": "8a45f019",
   "metadata": {},
   "outputs": [],
   "source": [
    "a[0] = b[0,:]"
   ]
  },
  {
   "cell_type": "code",
   "execution_count": null,
   "id": "19b7b7b8",
   "metadata": {},
   "outputs": [],
   "source": [
    "len(b.shape)"
   ]
  },
  {
   "cell_type": "code",
   "execution_count": null,
   "id": "e8f6fa93",
   "metadata": {},
   "outputs": [],
   "source": [
    "b.shape"
   ]
  },
  {
   "cell_type": "code",
   "execution_count": null,
   "id": "d4896c65",
   "metadata": {},
   "outputs": [],
   "source": [
    "l = get_lattice()\n",
    "n = fet_neighbour()"
   ]
  },
  {
   "cell_type": "code",
   "execution_count": null,
   "id": "bca2cfd8",
   "metadata": {},
   "outputs": [],
   "source": [
    "l[\"x\"][n[:,0]]"
   ]
  },
  {
   "cell_type": "code",
   "execution_count": null,
   "id": "efdcf6b4",
   "metadata": {},
   "outputs": [],
   "source": [
    "n[:,0].astype(np.uint16)"
   ]
  },
  {
   "cell_type": "code",
   "execution_count": null,
   "id": "740b58ef",
   "metadata": {},
   "outputs": [],
   "source": [
    "lattice[field][neighbor[index,:]]"
   ]
  },
  {
   "cell_type": "code",
   "execution_count": null,
   "id": "0c3ad971",
   "metadata": {},
   "outputs": [],
   "source": [
    "n[:,0]"
   ]
  },
  {
   "cell_type": "code",
   "execution_count": null,
   "id": "1c56712d",
   "metadata": {},
   "outputs": [],
   "source": [
    "lattice = get_lattice()"
   ]
  },
  {
   "cell_type": "code",
   "execution_count": null,
   "id": "b4cde60c",
   "metadata": {},
   "outputs": [],
   "source": [
    "hamil(1,1)"
   ]
  },
  {
   "cell_type": "code",
   "execution_count": null,
   "id": "1136096e",
   "metadata": {},
   "outputs": [],
   "source": [
    "lattice[0][\"eta\"].f"
   ]
  },
  {
   "cell_type": "code",
   "execution_count": null,
   "id": "4fadeefc",
   "metadata": {},
   "outputs": [],
   "source": [
    "lattice[3][\"eta\"].f"
   ]
  },
  {
   "cell_type": "code",
   "execution_count": null,
   "id": "bf4e4ab5",
   "metadata": {},
   "outputs": [],
   "source": [
    "import glob\n",
    "files = glob.glob(\"./hmc_python/*\")"
   ]
  },
  {
   "cell_type": "code",
   "execution_count": null,
   "id": "a6f06cdb",
   "metadata": {},
   "outputs": [],
   "source": [
    "os.listdir(\"C:/Users/cdipt/Documents/GitHub/Advance-Computational-Physics/hmc_python/\")"
   ]
  },
  {
   "cell_type": "code",
   "execution_count": null,
   "id": "d57ab71d",
   "metadata": {},
   "outputs": [],
   "source": [
    "\n",
    "# randomize() # Not defined here but present in the original code\n",
    "\n",
    "# filelat(pin) # Getting converted will be merged later\n",
    "\n",
    "av_sigma = 0.0  # grand average of <sigma>\n",
    "av_psi = 0.0  # grand average of <psi_bar-psi>\n",
    "t_ex_sigma = 0.0  # grand sum over all <sigma>s\n",
    "seg_av_sigma = 0.0  # segment-average of <sigma> for tau_int\n",
    "seg_av_prop = 0.0  # segment-average of <propagator[m]>\n",
    "\n",
    "no_hmc = 0  # # of hmc steps calculated\n",
    "no_acc = 0  # # of accepted configurations\n",
    "counter = 0  # counter used in hmc.c\n",
    "meas = 0  # meas is a switch for measurements\n",
    "no_auto = 0  # no_auto is the index for autocoreln. measurement\n",
    "no_prop = 0  # no_prop is the index for Prop-Acl calculation\n",
    "\n",
    "a = 0  # a index used in tau_int measurements\n",
    "ac = 0  # ac configuration index to ac_prop[ac]\n",
    "acc = 0  # acc index used in G_temp[][acc] i.e. # of data point and also used as index in ac_store\n",
    "bin = 0  # bin is index to bin_average\n",
    "g = 0  # g configuration index to garbage i.e. garbage[g]\n",
    "k = 0  # k configuration index to store i.e. store[k]\n",
    "j = 0  # j configuration index to store[j], during measurements"
   ]
  },
  {
   "cell_type": "code",
   "execution_count": null,
   "id": "37b14099",
   "metadata": {},
   "outputs": [],
   "source": [
    "#  GARBAGE LOOPS AND AUTOCORELATION MEASUREMENTS LOOPS\n",
    "for n in range(hmc_it):\n",
    "    no_acc += 1\n",
    "    no_hmc += hmc()\n",
    "\n",
    "    if no_acc<=no_garbage:\n",
    "        garbage[g] = average_sigma()\n",
    "        g += 1\n",
    "        bin +=1\n",
    "        if bin%bin_length == 0:\n",
    "            for m in range((g-bin),g):\n",
    "                bin_av[k] +=garbage[m]/bin_length\n",
    "            k += 1\n",
    "            bin = 0\n",
    "\n",
    "    if no_acc>no_garbage:\n",
    "        ac_store[acc] = average_sigma()\n",
    "        acc += 1\n",
    "        no_auto += 1\n",
    "\n",
    "        if no_auto%seg_length == 0:\n",
    "            lbd = acc - no_auto\n",
    "            for m in range(lbd,acc):\n",
    "                seg_av_sigma += ac_store[m]/seg_length\n",
    "            autocorel(seg_av_sigma,lbd,a)\n",
    "            a += 1\n",
    "            seg_av_sigma = 0\n",
    "            no_auto = 0\n",
    "\n",
    "    for i in range(0,volume):\n",
    "        con[i] = conf[i]\n",
    "    for i in range(0,volume):\n",
    "        conf[i] = lattice[i].sigma\n",
    "\n",
    "acc_rate = no_acc/no_hmc\n",
    "\n",
    "for n in range(0, MAXT_cut):\n",
    "    ptacl.write(f\"{n+1}\")\n",
    "    for u in range(NOT_cut):\n",
    "        d_t_int = 0\n",
    "        av_t_int = 0\n",
    "\n",
    "        for a in range(no_a_seg):\n",
    "            av_t_int += T_int[u][n][a]/no_a_seg\n",
    "        for a in range(no_a_seg):\n",
    "            d_t_int += (T_int[u][n][a] -00 av_t_int)**2\n",
    "\n",
    "        d_t_int = math.sqrt(d_t_int/(no_a_seg-1))\n",
    "\n",
    "        ptacl.write(f\"\\t{av_t_int}\\t{d_t_int}\")\n",
    "    ptacl.write(\"\\n\")\n",
    "\n",
    "print(f\"\\n\\n no_acc_traj={no_acc} \\t no_hmc={no_hmc} \\t acc_rate={acc_rate}\")\n",
    "\n",
    "for k in range(0,no_bin):\n",
    "    ptout.write(f\"{k+1}\\t{bin_av[k]}\\n\")\n",
    "for i in range(0,volume):\n",
    "    ptlat.write(f\"{lattice[i].sigma}\\n\")\n"
   ]
  },
  {
   "cell_type": "code",
   "execution_count": null,
   "id": "e5692fcc",
   "metadata": {},
   "outputs": [],
   "source": [
    "if sw_flag == 0:\n",
    "    #  GARBAGE LOOPS AND AUTOCORELATION MEASUREMENTS LOOPS\n",
    "    for n in range(hmc_it):\n",
    "        no_acc += 1\n",
    "        no_hmc += hmc()\n",
    "\n",
    "        if no_acc<=no_garbage:\n",
    "            garbage[g] = average_sigma()\n",
    "            g += 1\n",
    "            bin +=1\n",
    "            if bin%bin_length == 0:\n",
    "                for m in range((g-bin),g):\n",
    "                    bin_av[k] +=garbage[m]/bin_length\n",
    "                k += 1\n",
    "                bin = 0\n",
    "\n",
    "        if no_acc>no_garbage:\n",
    "            ac_store[acc] = average_sigma()\n",
    "            acc += 1\n",
    "            no_auto += 1\n",
    "\n",
    "            if no_auto%seg_length == 0:\n",
    "                lbd = acc - no_auto\n",
    "                for m in range(lbd,acc):\n",
    "                    seg_av_sigma += ac_store[m]/seg_length\n",
    "                autocorel(seg_av_sigma,lbd,a)\n",
    "                a += 1\n",
    "                seg_av_sigma = 0\n",
    "                no_auto = 0\n",
    "\n",
    "        for i in range(0,volume):\n",
    "            con[i] = conf[i]\n",
    "        for i in range(0,volume):\n",
    "            conf[i] = lattice[i].sigma\n",
    "\n",
    "    acc_rate = no_acc/no_hmc\n",
    "\n",
    "    for n in range(0, MAXT_cut):\n",
    "        ptacl.write(f\"{n+1}\")\n",
    "        for u in range(NOT_cut):\n",
    "            d_t_int = 0\n",
    "            av_t_int = 0\n",
    "\n",
    "            for a in range(no_a_seg):\n",
    "                av_t_int += T_int[u][n][a]/no_a_seg\n",
    "            for a in range(no_a_seg):\n",
    "                d_t_int += (T_int[u][n][a] - av_t_int)**2\n",
    "\n",
    "            d_t_int = math.sqrt(d_t_int/(no_a_seg-1))\n",
    "\n",
    "            ptacl.write(f\"\\t{av_t_int}\\t{d_t_int}\")\n",
    "        ptacl.write(\"\\n\")\n",
    "\n",
    "    print(f\"\\n\\n no_acc_traj={no_acc} \\t no_hmc={no_hmc} \\t acc_rate={acc_rate}\")\n",
    "\n",
    "    for k in range(0,no_bin):\n",
    "        ptout.write(f\"{k+1}\\t{bin_av[k]}\\n\")\n",
    "    for i in range(0,volume):\n",
    "        ptlat.write(f\"{lattice[i].sigma}\\n\")\n",
    "\n",
    "\n",
    "\n",
    "if sw_flag == 1:\n",
    "    for n in range(meas_loop):\n",
    "        no_acc += 1\n",
    "        no_hmc += hmc()\n",
    "\n",
    "        meas = meas + 1\n",
    "        no_prop = no_prop + 1\n",
    "\n",
    "        if meas%meas_length == 0:\n",
    "            store[j] += average_sigma()\n",
    "            t_ex_sigma += store[j]\n",
    "            j += 1\n",
    "\n",
    "        if meas%prop_length == 0:\n",
    "            pass\n",
    "\n",
    "    av_sigma = t_ex_sigma / no_meas\n",
    "    sqdev = 0\n",
    "    for k in range(no_meas):\n",
    "        sqdev += (store[k]-av_sigma)**2\n",
    "    d_av_sigma = sqrt(sqdev/(no_meas-1))\n",
    "\n",
    "    acc_rate = no_acc/no_hmc\n",
    "\n",
    "    print(f\"\\n\\n\\ no_acc_traj = {no_acc} \\t no_hmc = {no_hmc} \\t acc_rate = {acc_rate} \\n\\n\")\n",
    "    print(f\"av_sigma={av_sigma} \\t av_psi{av_psi}\\n\\n\")\n",
    "    print(f\"d_av_sigma={d_av_sigma} \\t d_av_psi{d_av_psi}\\n\\n\")\n",
    "\n",
    "    for i in range(0,volume):\n",
    "        ptlat.write(f\"{lattice[i].sigma}\\n\")\n",
    "\n",
    "else:\n",
    "    print(\"KILL YOURSELF, PLEASE !!!\")\n"
   ]
  },
  {
   "cell_type": "code",
   "execution_count": null,
   "id": "49563ff2",
   "metadata": {},
   "outputs": [],
   "source": [
    "np.random.randn()"
   ]
  },
  {
   "cell_type": "code",
   "execution_count": null,
   "id": "958e92e6",
   "metadata": {},
   "outputs": [],
   "source": []
  },
  {
   "cell_type": "code",
   "execution_count": null,
   "id": "32cd16fc",
   "metadata": {},
   "outputs": [],
   "source": []
  },
  {
   "cell_type": "code",
   "execution_count": null,
   "id": "5e94d472",
   "metadata": {},
   "outputs": [],
   "source": []
  }
 ],
 "metadata": {
  "kernelspec": {
   "display_name": "Python 3 (ipykernel)",
   "language": "python",
   "name": "python3"
  },
  "language_info": {
   "codemirror_mode": {
    "name": "ipython",
    "version": 3
   },
   "file_extension": ".py",
   "mimetype": "text/x-python",
   "name": "python",
   "nbconvert_exporter": "python",
   "pygments_lexer": "ipython3",
   "version": "3.8.8"
  }
 },
 "nbformat": 4,
 "nbformat_minor": 5
}
