{
 "cells": [
  {
   "cell_type": "code",
   "execution_count": 1,
   "id": "2a767831",
   "metadata": {},
   "outputs": [
    {
     "name": "stderr",
     "output_type": "stream",
     "text": [
      "C:\\Users\\cdipt\\anaconda3\\lib\\site-packages\\numpy\\_distributor_init.py:30: UserWarning: loaded more than 1 DLL from .libs:\n",
      "C:\\Users\\cdipt\\anaconda3\\lib\\site-packages\\numpy\\.libs\\libopenblas.FB5AE2TYXYH2IJRDKGDGQ3XBKLKTF43H.gfortran-win_amd64.dll\n",
      "C:\\Users\\cdipt\\anaconda3\\lib\\site-packages\\numpy\\.libs\\libopenblas.WCDJNK7YVMPZQ2ME2ZZHJJRJ3JIKNDB7.gfortran-win_amd64.dll\n",
      "C:\\Users\\cdipt\\anaconda3\\lib\\site-packages\\numpy\\.libs\\libopenblas64__v0.3.21-gcc_10_3_0.dll\n",
      "  warnings.warn(\"loaded more than 1 DLL from .libs:\"\n"
     ]
    }
   ],
   "source": [
    "import hmc_python\n",
    "from hmc_python.util import *\n",
    "from hmc_python.lparam import *"
   ]
  },
  {
   "cell_type": "code",
   "execution_count": 2,
   "id": "ffb449f2",
   "metadata": {},
   "outputs": [
    {
     "name": "stdout",
     "output_type": "stream",
     "text": [
      "GN model with HMC algorithm\n",
      "\n",
      "Alpha machine, Version 1\n",
      "\n",
      "type 0 for no prompts, 1 for prompts or 2 for list of prompts\n",
      "\n",
      "Enter the prompt type (only 1 is supported for now):1\n",
      "Lattice dimensions = 16 16\n",
      "\n",
      "Switch_Flag = 0\n",
      "\n",
      "No of garbage loops = 1000\n",
      "bin_length = 1\n",
      "# of hmc iterations = 1000\n",
      "meas_length = 1\n",
      "prop_length = 1\n",
      "seg_length = 1\n",
      "None\n",
      "no of md steps = 1000, step size = 0.1\n",
      "maximum no. of conj. grad. iterations = 1000,1000\n",
      "residues for conjugate grad = 1,1\n"
     ]
    }
   ],
   "source": [
    "#------------------------------------------------\n",
    "# File IO Defined in the code\n",
    "#------------------------------------------------\n",
    "pin = open(\"./hmc_python/sigma1.in\",\"r\")\n",
    "ptout = open(\"./hmc_python/sigma1.out\", \"a\")\n",
    "ptacl = open(\"./hmc_python/sigma1.acl\", \"a\");\n",
    "ptlat = open(\"./hmc_python/sigma1.lat\", \"a\");\n",
    "ptprop = open(\"./hmc_python/sigma1.prop\", \"w\");\n",
    "ptpropacl = open(\"./hmc_python/sigma1.propacl\", \"w\");\n",
    "\n",
    "prompt = setup_gn()\n",
    "readin(prompt)\n"
   ]
  },
  {
   "cell_type": "code",
   "execution_count": 3,
   "id": "635b35c2",
   "metadata": {},
   "outputs": [],
   "source": [
    "neighbor = get_neighbor()"
   ]
  },
  {
   "cell_type": "code",
   "execution_count": 4,
   "id": "ab2775a3",
   "metadata": {},
   "outputs": [
    {
     "data": {
      "text/plain": [
       "array([16, 16, 16, 16])"
      ]
     },
     "execution_count": 4,
     "metadata": {},
     "output_type": "execute_result"
    }
   ],
   "source": [
    "import numpy as np\n",
    "np.array(neighbor)[:,17]"
   ]
  },
  {
   "cell_type": "code",
   "execution_count": 14,
   "id": "8874cd42",
   "metadata": {},
   "outputs": [],
   "source": [
    "neighbor[2][3] = 1"
   ]
  },
  {
   "cell_type": "code",
   "execution_count": 16,
   "id": "953e200f",
   "metadata": {},
   "outputs": [
    {
     "data": {
      "text/plain": [
       "1"
      ]
     },
     "execution_count": 16,
     "metadata": {},
     "output_type": "execute_result"
    }
   ],
   "source": [
    "neighbor[3][3] "
   ]
  },
  {
   "cell_type": "code",
   "execution_count": null,
   "id": "d57ab71d",
   "metadata": {
    "collapsed": true
   },
   "outputs": [],
   "source": [
    "\n",
    "# randomize() # Not defined here but present in the original code\n",
    "\n",
    "# filelat(pin) # Getting converted will be merged later\n",
    "\n",
    "av_sigma = 0.0  # grand average of <sigma>\n",
    "av_psi = 0.0  # grand average of <psi_bar-psi>\n",
    "t_ex_sigma = 0.0  # grand sum over all <sigma>s\n",
    "seg_av_sigma = 0.0  # segment-average of <sigma> for tau_int\n",
    "seg_av_prop = 0.0  # segment-average of <propagator[m]>\n",
    "\n",
    "no_hmc = 0  # # of hmc steps calculated\n",
    "no_acc = 0  # # of accepted configurations\n",
    "counter = 0  # counter used in hmc.c\n",
    "meas = 0  # meas is a switch for measurements\n",
    "no_auto = 0  # no_auto is the index for autocoreln. measurement\n",
    "no_prop = 0  # no_prop is the index for Prop-Acl calculation\n",
    "\n",
    "a = 0  # a index used in tau_int measurements\n",
    "ac = 0  # ac configuration index to ac_prop[ac]\n",
    "acc = 0  # acc index used in G_temp[][acc] i.e. # of data point and also used as index in ac_store\n",
    "bin = 0  # bin is index to bin_average\n",
    "g = 0  # g configuration index to garbage i.e. garbage[g]\n",
    "k = 0  # k configuration index to store i.e. store[k]\n",
    "j = 0  # j configuration index to store[j], during measurements\n",
    "\n",
    "if sw_flag == 0:\n",
    "    #  GARBAGE LOOPS AND AUTOCORELATION MEASUREMENTS LOOPS\n",
    "    for n in range(hmc_it):\n",
    "        no_acc += 1\n",
    "        no_hmc += hmc()\n",
    "\n",
    "        if no_acc<=no_garbage:\n",
    "            garbage[g] = average_sigma()\n",
    "            g += 1\n",
    "            bin +=1\n",
    "            if bin%bin_length == 0:\n",
    "                for m in range((g-bin),g):\n",
    "                    bin_av[k] +=garbage[m]/bin_length\n",
    "                k += 1\n",
    "                bin = 0\n",
    "\n",
    "        if no_acc>no_garbage:\n",
    "            ac_store[acc] = average_sigma()\n",
    "            acc += 1\n",
    "            no_auto += 1\n",
    "\n",
    "            if no_auto%seg_length == 0:\n",
    "                lbd = acc - no_auto\n",
    "                for m in range(lbd,acc):\n",
    "                    seg_av_sigma += ac_store[m]/seg_length\n",
    "                autocorel(seg_av_sigma,lbd,a)\n",
    "                a += 1\n",
    "                seg_av_sigma = 0\n",
    "                no_auto = 0\n",
    "\n",
    "        for i in range(0,volume):\n",
    "            con[i] = conf[i]\n",
    "        for i in range(0,volume):\n",
    "            conf[i] = lattice[i].sigma\n",
    "\n",
    "    acc_rate = no_acc/no_hmc\n",
    "\n",
    "    for n in range(0, MAXT_cut):\n",
    "        ptacl.write(f\"{n+1}\")\n",
    "        for u in range(NOT_cut):\n",
    "            d_t_int = 0\n",
    "            av_t_int = 0\n",
    "\n",
    "            for a in range(no_a_seg):\n",
    "                av_t_int += T_int[u][n][a]/no_a_seg\n",
    "            for a in range(no_a_seg):\n",
    "                d_t_int += (T_int[u][n][a] - av_t_int)**2\n",
    "\n",
    "            d_t_int = math.sqrt(d_t_int/(no_a_seg-1))\n",
    "\n",
    "            ptacl.write(f\"\\t{av_t_int}\\t{d_t_int}\")\n",
    "        ptacl.write(\"\\n\")\n",
    "\n",
    "    print(f\"\\n\\n no_acc_traj={no_acc} \\t no_hmc={no_hmc} \\t acc_rate={acc_rate}\")\n",
    "\n",
    "    for k in range(0,no_bin):\n",
    "        ptout.write(f\"{k+1}\\t{bin_av[k]}\\n\")\n",
    "    for i in range(0,volume):\n",
    "        ptlat.write(f\"{lattice[i].sigma}\\n\")\n",
    "\n",
    "\n",
    "\n",
    "if sw_flag == 1:\n",
    "    for n in range(meas_loop):\n",
    "        no_acc += 1\n",
    "        no_hmc += hmc()\n",
    "\n",
    "        meas = meas + 1\n",
    "        no_prop = no_prop + 1\n",
    "\n",
    "        if meas%meas_length == 0:\n",
    "            store[j] += average_sigma()\n",
    "            t_ex_sigma += store[j]\n",
    "            j += 1\n",
    "\n",
    "        if meas%prop_length == 0:\n",
    "            pass\n",
    "\n",
    "    av_sigma = t_ex_sigma / no_meas\n",
    "    sqdev = 0\n",
    "    for k in range(no_meas):\n",
    "        sqdev += (store[k]-av_sigma)**2\n",
    "    d_av_sigma = sqrt(sqdev/(no_meas-1))\n",
    "\n",
    "    acc_rate = no_acc/no_hmc\n",
    "\n",
    "    print(f\"\\n\\n\\ no_acc_traj = {no_acc} \\t no_hmc = {no_hmc} \\t acc_rate = {acc_rate} \\n\\n\")\n",
    "    print(f\"av_sigma={av_sigma} \\t av_psi{av_psi}\\n\\n\")\n",
    "    print(f\"d_av_sigma={d_av_sigma} \\t d_av_psi{d_av_psi}\\n\\n\")\n",
    "\n",
    "    for i in range(0,volume):\n",
    "        ptlat.write(f\"{lattice[i].sigma}\\n\")\n",
    "\n",
    "else:\n",
    "    print(\"KILL YOURSELF, PLEASE !!!\")\n"
   ]
  }
 ],
 "metadata": {
  "kernelspec": {
   "display_name": "Python 3 (ipykernel)",
   "language": "python",
   "name": "python3"
  },
  "language_info": {
   "codemirror_mode": {
    "name": "ipython",
    "version": 3
   },
   "file_extension": ".py",
   "mimetype": "text/x-python",
   "name": "python",
   "nbconvert_exporter": "python",
   "pygments_lexer": "ipython3",
   "version": "3.8.8"
  }
 },
 "nbformat": 4,
 "nbformat_minor": 5
}
