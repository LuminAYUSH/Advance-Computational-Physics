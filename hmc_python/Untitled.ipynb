{
 "cells": [
  {
   "cell_type": "code",
   "execution_count": 1,
   "id": "2c6b5a59",
   "metadata": {},
   "outputs": [
    {
     "name": "stderr",
     "output_type": "stream",
     "text": [
      "C:\\Users\\cdipt\\anaconda3\\lib\\site-packages\\numpy\\_distributor_init.py:30: UserWarning: loaded more than 1 DLL from .libs:\n",
      "C:\\Users\\cdipt\\anaconda3\\lib\\site-packages\\numpy\\.libs\\libopenblas.FB5AE2TYXYH2IJRDKGDGQ3XBKLKTF43H.gfortran-win_amd64.dll\n",
      "C:\\Users\\cdipt\\anaconda3\\lib\\site-packages\\numpy\\.libs\\libopenblas.WCDJNK7YVMPZQ2ME2ZZHJJRJ3JIKNDB7.gfortran-win_amd64.dll\n",
      "C:\\Users\\cdipt\\anaconda3\\lib\\site-packages\\numpy\\.libs\\libopenblas64__v0.3.21-gcc_10_3_0.dll\n",
      "  warnings.warn(\"loaded more than 1 DLL from .libs:\"\n"
     ]
    },
    {
     "ename": "SyntaxError",
     "evalue": "invalid syntax (util.py, line 757)",
     "output_type": "error",
     "traceback": [
      "Traceback \u001b[1;36m(most recent call last)\u001b[0m:\n",
      "\u001b[0m  File \u001b[0;32m~\\anaconda3\\lib\\site-packages\\IPython\\core\\interactiveshell.py:3508\u001b[0m in \u001b[0;35mrun_code\u001b[0m\n    exec(code_obj, self.user_global_ns, self.user_ns)\u001b[0m\n",
      "\u001b[1;36m  Cell \u001b[1;32mIn[1], line 10\u001b[1;36m\n\u001b[1;33m    import util\u001b[1;36m\n",
      "\u001b[1;36m  File \u001b[1;32m~\\Documents\\GitHub\\Advance-Computational-Physics\\hmc_python\\util.py:757\u001b[1;36m\u001b[0m\n\u001b[1;33m    print(global no_even_sites)\u001b[0m\n\u001b[1;37m          ^\u001b[0m\n\u001b[1;31mSyntaxError\u001b[0m\u001b[1;31m:\u001b[0m invalid syntax\n"
     ]
    }
   ],
   "source": [
    "import numpy as np\n",
    "import scipy\n",
    "import sklearn as sk\n",
    "import matplotlib.pyplot as plt\n",
    "import sys\n",
    "import os\n",
    "import math\n",
    "\n",
    "# from util import *\n",
    "import util\n"
   ]
  },
  {
   "cell_type": "code",
   "execution_count": 2,
   "id": "9220309b",
   "metadata": {},
   "outputs": [
    {
     "name": "stdout",
     "output_type": "stream",
     "text": [
      "GN model with HMC algorithm\n",
      "\n",
      "Alpha machine, Version 1\n",
      "\n",
      "type 0 for no prompts, 1 for prompts or 2 for list of prompts\n",
      "\n",
      "Enter the prompt type (only 1 is supported for now):1\n",
      "error in input: initial prompt\n"
     ]
    },
    {
     "ename": "NameError",
     "evalue": "name 'volume' is not defined",
     "output_type": "error",
     "traceback": [
      "\u001b[1;31m---------------------------------------------------------------------------\u001b[0m",
      "\u001b[1;31mNameError\u001b[0m                                 Traceback (most recent call last)",
      "Cell \u001b[1;32mIn[2], line 11\u001b[0m\n\u001b[0;32m      8\u001b[0m ptprop \u001b[38;5;241m=\u001b[39m \u001b[38;5;28mopen\u001b[39m(\u001b[38;5;124m\"\u001b[39m\u001b[38;5;124msigma1.prop\u001b[39m\u001b[38;5;124m\"\u001b[39m, \u001b[38;5;124m\"\u001b[39m\u001b[38;5;124mw\u001b[39m\u001b[38;5;124m\"\u001b[39m);\n\u001b[0;32m      9\u001b[0m ptpropacl \u001b[38;5;241m=\u001b[39m \u001b[38;5;28mopen\u001b[39m(\u001b[38;5;124m\"\u001b[39m\u001b[38;5;124msigma1.propacl\u001b[39m\u001b[38;5;124m\"\u001b[39m, \u001b[38;5;124m\"\u001b[39m\u001b[38;5;124mw\u001b[39m\u001b[38;5;124m\"\u001b[39m);\n\u001b[1;32m---> 11\u001b[0m prompt \u001b[38;5;241m=\u001b[39m \u001b[43msetup_gn\u001b[49m\u001b[43m(\u001b[49m\u001b[43m)\u001b[49m\n\u001b[0;32m     12\u001b[0m readin(prompt)\n",
      "File \u001b[1;32m~\\Documents\\GitHub\\Advance-Computational-Physics\\hmc_python\\util.py:40\u001b[0m, in \u001b[0;36msetup_gn\u001b[1;34m()\u001b[0m\n\u001b[0;32m     38\u001b[0m \u001b[38;5;28;01mdef\u001b[39;00m \u001b[38;5;21msetup_gn\u001b[39m():\n\u001b[0;32m     39\u001b[0m     prompt \u001b[38;5;241m=\u001b[39m initial_set()\n\u001b[1;32m---> 40\u001b[0m     \u001b[43mlayout\u001b[49m\u001b[43m(\u001b[49m\u001b[43m)\u001b[49m;\n\u001b[0;32m     41\u001b[0m     make_lattice();\n\u001b[0;32m     42\u001b[0m     make_nn_gather();\n",
      "File \u001b[1;32m~\\Documents\\GitHub\\Advance-Computational-Physics\\hmc_python\\util.py:757\u001b[0m, in \u001b[0;36mlayout\u001b[1;34m()\u001b[0m\n\u001b[0;32m    754\u001b[0m \u001b[38;5;28;01mdef\u001b[39;00m \u001b[38;5;21mlayout\u001b[39m():\n\u001b[0;32m    755\u001b[0m     \u001b[38;5;28;01mglobal\u001b[39;00m no_odd_sites, no_even_sites, volume\n\u001b[1;32m--> 757\u001b[0m     no_even_sites \u001b[38;5;241m=\u001b[39m \u001b[43mvolume\u001b[49m\u001b[38;5;241m/\u001b[39m\u001b[38;5;241m2\u001b[39m\n\u001b[0;32m    758\u001b[0m     no_odd_sites \u001b[38;5;241m=\u001b[39m volume\u001b[38;5;241m/\u001b[39m\u001b[38;5;241m2\u001b[39m\n",
      "\u001b[1;31mNameError\u001b[0m: name 'volume' is not defined"
     ]
    }
   ],
   "source": [
    "#------------------------------------------------\n",
    "# File IO Defined in the code\n",
    "#------------------------------------------------\n",
    "pin = open(\"sigma1.in\",\"r\")\n",
    "ptout = open(\"sigma1.out\", \"a\")\n",
    "ptacl = open(\"sigma1.acl\", \"a\");\n",
    "ptlat = open(\"sigma1.lat\", \"a\");\n",
    "ptprop = open(\"sigma1.prop\", \"w\");\n",
    "ptpropacl = open(\"sigma1.propacl\", \"w\");\n",
    "\n",
    "prompt = setup_gn()\n",
    "readin(prompt)\n"
   ]
  },
  {
   "cell_type": "code",
   "execution_count": 2,
   "id": "e1cd9e33",
   "metadata": {},
   "outputs": [],
   "source": []
  },
  {
   "cell_type": "code",
   "execution_count": 2,
   "id": "6e210312",
   "metadata": {},
   "outputs": [
    {
     "ename": "NameError",
     "evalue": "name 'no_even_sites' is not defined",
     "output_type": "error",
     "traceback": [
      "\u001b[1;31m---------------------------------------------------------------------------\u001b[0m",
      "\u001b[1;31mNameError\u001b[0m                                 Traceback (most recent call last)",
      "Cell \u001b[1;32mIn[2], line 1\u001b[0m\n\u001b[1;32m----> 1\u001b[0m \u001b[43mutil\u001b[49m\u001b[38;5;241;43m.\u001b[39;49m\u001b[43mlayout\u001b[49m\u001b[43m(\u001b[49m\u001b[43m)\u001b[49m\n",
      "File \u001b[1;32m~\\Documents\\GitHub\\Advance-Computational-Physics\\hmc_python\\util.py:757\u001b[0m, in \u001b[0;36mlayout\u001b[1;34m()\u001b[0m\n\u001b[0;32m    755\u001b[0m \u001b[38;5;28;01mglobal\u001b[39;00m no_odd_sites, no_even_sites\n\u001b[0;32m    756\u001b[0m \u001b[38;5;28;01mglobal\u001b[39;00m volume\n\u001b[1;32m--> 757\u001b[0m \u001b[38;5;28mprint\u001b[39m(\u001b[43mno_even_sites\u001b[49m)\n\u001b[0;32m    758\u001b[0m no_even_sites \u001b[38;5;241m=\u001b[39m volume\u001b[38;5;241m/\u001b[39m\u001b[38;5;241m2\u001b[39m\n\u001b[0;32m    759\u001b[0m no_odd_sites \u001b[38;5;241m=\u001b[39m volume\u001b[38;5;241m/\u001b[39m\u001b[38;5;241m2\u001b[39m\n",
      "\u001b[1;31mNameError\u001b[0m: name 'no_even_sites' is not defined"
     ]
    }
   ],
   "source": [
    "util.layout()"
   ]
  },
  {
   "cell_type": "code",
   "execution_count": null,
   "id": "0c20e890",
   "metadata": {
    "collapsed": true
   },
   "outputs": [],
   "source": [
    "\n",
    "# randomize() # Not defined here but present in the original code\n",
    "\n",
    "# filelat(pin) # Getting converted will be merged later\n",
    "\n",
    "av_sigma = 0.0  # grand average of <sigma>\n",
    "av_psi = 0.0  # grand average of <psi_bar-psi>\n",
    "t_ex_sigma = 0.0  # grand sum over all <sigma>s\n",
    "seg_av_sigma = 0.0  # segment-average of <sigma> for tau_int\n",
    "seg_av_prop = 0.0  # segment-average of <propagator[m]>\n",
    "\n",
    "no_hmc = 0  # # of hmc steps calculated\n",
    "no_acc = 0  # # of accepted configurations\n",
    "counter = 0  # counter used in hmc.c\n",
    "meas = 0  # meas is a switch for measurements\n",
    "no_auto = 0  # no_auto is the index for autocoreln. measurement\n",
    "no_prop = 0  # no_prop is the index for Prop-Acl calculation\n",
    "\n",
    "a = 0  # a index used in tau_int measurements\n",
    "ac = 0  # ac configuration index to ac_prop[ac]\n",
    "acc = 0  # acc index used in G_temp[][acc] i.e. # of data point and also used as index in ac_store\n",
    "bin = 0  # bin is index to bin_average\n",
    "g = 0  # g configuration index to garbage i.e. garbage[g]\n",
    "k = 0  # k configuration index to store i.e. store[k]\n",
    "j = 0  # j configuration index to store[j], during measurements\n",
    "\n",
    "if sw_flag == 0:\n",
    "    #  GARBAGE LOOPS AND AUTOCORELATION MEASUREMENTS LOOPS\n",
    "    for n in range(hmc_it):\n",
    "        no_acc += 1\n",
    "        no_hmc += hmc()\n",
    "\n",
    "        if no_acc<=no_garbage:\n",
    "            garbage[g] = average_sigma()\n",
    "            g += 1\n",
    "            bin +=1\n",
    "            if bin%bin_length == 0:\n",
    "                for m in range((g-bin),g):\n",
    "                    bin_av[k] +=garbage[m]/bin_length\n",
    "                k += 1\n",
    "                bin = 0\n",
    "\n",
    "        if no_acc>no_garbage:\n",
    "            ac_store[acc] = average_sigma()\n",
    "            acc += 1\n",
    "            no_auto += 1\n",
    "\n",
    "            if no_auto%seg_length == 0:\n",
    "                lbd = acc - no_auto\n",
    "                for m in range(lbd,acc):\n",
    "                    seg_av_sigma += ac_store[m]/seg_length\n",
    "                autocorel(seg_av_sigma,lbd,a)\n",
    "                a += 1\n",
    "                seg_av_sigma = 0\n",
    "                no_auto = 0\n",
    "\n",
    "        for i in range(0,volume):\n",
    "            con[i] = conf[i]\n",
    "        for i in range(0,volume):\n",
    "            conf[i] = lattice[i].sigma\n",
    "\n",
    "    acc_rate = no_acc/no_hmc\n",
    "\n",
    "    for n in range(0, MAXT_cut):\n",
    "        ptacl.write(f\"{n+1}\")\n",
    "        for u in range(NOT_cut):\n",
    "            d_t_int = 0\n",
    "            av_t_int = 0\n",
    "\n",
    "            for a in range(no_a_seg):\n",
    "                av_t_int += T_int[u][n][a]/no_a_seg\n",
    "            for a in range(no_a_seg):\n",
    "                d_t_int += (T_int[u][n][a] - av_t_int)**2\n",
    "\n",
    "            d_t_int = math.sqrt(d_t_int/(no_a_seg-1))\n",
    "\n",
    "            ptacl.write(f\"\\t{av_t_int}\\t{d_t_int}\")\n",
    "        ptacl.write(\"\\n\")\n",
    "\n",
    "    print(f\"\\n\\n no_acc_traj={no_acc} \\t no_hmc={no_hmc} \\t acc_rate={acc_rate}\")\n",
    "\n",
    "    for k in range(0,no_bin):\n",
    "        ptout.write(f\"{k+1}\\t{bin_av[k]}\\n\")\n",
    "    for i in range(0,volume):\n",
    "        ptlat.write(f\"{lattice[i].sigma}\\n\")\n",
    "\n",
    "\n",
    "\n",
    "if sw_flag == 1:\n",
    "    for n in range(meas_loop):\n",
    "        no_acc += 1\n",
    "        no_hmc += hmc()\n",
    "\n",
    "        meas = meas + 1\n",
    "        no_prop = no_prop + 1\n",
    "\n",
    "        if meas%meas_length == 0:\n",
    "            store[j] += average_sigma()\n",
    "            t_ex_sigma += store[j]\n",
    "            j += 1\n",
    "\n",
    "        if meas%prop_length == 0:\n",
    "            pass\n",
    "\n",
    "    av_sigma = t_ex_sigma / no_meas\n",
    "    sqdev = 0\n",
    "    for k in range(no_meas):\n",
    "        sqdev += (store[k]-av_sigma)**2\n",
    "    d_av_sigma = sqrt(sqdev/(no_meas-1))\n",
    "\n",
    "    acc_rate = no_acc/no_hmc\n",
    "\n",
    "    print(f\"\\n\\n\\ no_acc_traj = {no_acc} \\t no_hmc = {no_hmc} \\t acc_rate = {acc_rate} \\n\\n\")\n",
    "    print(f\"av_sigma={av_sigma} \\t av_psi{av_psi}\\n\\n\")\n",
    "    print(f\"d_av_sigma={d_av_sigma} \\t d_av_psi{d_av_psi}\\n\\n\")\n",
    "\n",
    "    for i in range(0,volume):\n",
    "        ptlat.write(f\"{lattice[i].sigma}\\n\")\n",
    "\n",
    "else:\n",
    "    print(\"KILL YOURSELF, PLEASE !!!\")\n"
   ]
  }
 ],
 "metadata": {
  "kernelspec": {
   "display_name": "Python 3 (ipykernel)",
   "language": "python",
   "name": "python3"
  },
  "language_info": {
   "codemirror_mode": {
    "name": "ipython",
    "version": 3
   },
   "file_extension": ".py",
   "mimetype": "text/x-python",
   "name": "python",
   "nbconvert_exporter": "python",
   "pygments_lexer": "ipython3",
   "version": "3.8.8"
  }
 },
 "nbformat": 4,
 "nbformat_minor": 5
}
